{
 "cells": [
  {
   "cell_type": "markdown",
   "id": "165166dd",
   "metadata": {},
   "source": [
    "# DS Automation Assignment"
   ]
  },
  {
   "cell_type": "markdown",
   "id": "c195af74",
   "metadata": {},
   "source": [
    "Using our prepared churn data from week 2:\n",
    "- use pycaret to find an ML algorithm that performs best on the data\n",
    "    - Choose a metric you think is best to use for finding the best model; by default, it is accuracy but it could be AUC, precision, recall, etc. The week 3 FTE has some information on these different metrics.\n",
    "- save the model to disk\n",
    "- create a Python script/file/module with a function that takes a pandas dataframe as an input and returns the probability of churn for each row in the dataframe\n",
    "    - your Python file/function should print out the predictions for new data (new_churn_data.csv)\n",
    "    - the true values for the new data are [1, 0, 0, 1, 0] if you're interested\n",
    "- test your Python module and function with the new data, new_churn_data.csv\n",
    "- write a short summary of the process and results at the end of this notebook\n",
    "- upload this Jupyter Notebook and Python file to a Github repository, and turn in a link to the repository in the week 5 assignment dropbox\n",
    "\n",
    "*Optional* challenges:\n",
    "- return the probability of churn for each new prediction, and the percentile where that prediction is in the distribution of probability predictions from the training dataset (e.g. a high probability of churn like 0.78 might be at the 90th percentile)\n",
    "- use other autoML packages, such as TPOT, H2O, MLBox, etc, and compare performance and features with pycaret\n",
    "- create a class in your Python module to hold the functions that you created\n",
    "- accept user input to specify a file using a tool such as Python's `input()` function, the `click` package for command-line arguments, or a GUI\n",
    "- Use the unmodified churn data (new_unmodified_churn_data.csv) in your Python script. This will require adding the same preprocessing steps from week 2 since this data is like the original unmodified dataset from week 1."
   ]
  },
  {
   "cell_type": "code",
   "execution_count": 1,
   "id": "476ed965",
   "metadata": {},
   "outputs": [],
   "source": [
    "import pandas as pd\n",
    "from pycaret.classification import setup, compare_models, predict_model, save_model, load_model, tune_model, create_model\n",
    "import pickle\n",
    "from IPython.display import Code"
   ]
  },
  {
   "cell_type": "code",
   "execution_count": 17,
   "id": "0d7b5f64-ea93-4d7c-a5e6-de2f1554f6a2",
   "metadata": {},
   "outputs": [
    {
     "data": {
      "text/html": [
       "<div>\n",
       "<style scoped>\n",
       "    .dataframe tbody tr th:only-of-type {\n",
       "        vertical-align: middle;\n",
       "    }\n",
       "\n",
       "    .dataframe tbody tr th {\n",
       "        vertical-align: top;\n",
       "    }\n",
       "\n",
       "    .dataframe thead th {\n",
       "        text-align: right;\n",
       "    }\n",
       "</style>\n",
       "<table border=\"1\" class=\"dataframe\">\n",
       "  <thead>\n",
       "    <tr style=\"text-align: right;\">\n",
       "      <th></th>\n",
       "      <th>tenure</th>\n",
       "      <th>PhoneService</th>\n",
       "      <th>Contract</th>\n",
       "      <th>PaymentMethod</th>\n",
       "      <th>MonthlyCharges</th>\n",
       "      <th>TotalCharges</th>\n",
       "      <th>Churn</th>\n",
       "      <th>TotalCharge_MonthlyCharge_ratio</th>\n",
       "      <th>TotalCharge_tenure_ratio</th>\n",
       "      <th>Automatic_payment</th>\n",
       "    </tr>\n",
       "    <tr>\n",
       "      <th>customerID</th>\n",
       "      <th></th>\n",
       "      <th></th>\n",
       "      <th></th>\n",
       "      <th></th>\n",
       "      <th></th>\n",
       "      <th></th>\n",
       "      <th></th>\n",
       "      <th></th>\n",
       "      <th></th>\n",
       "      <th></th>\n",
       "    </tr>\n",
       "  </thead>\n",
       "  <tbody>\n",
       "    <tr>\n",
       "      <th>7590-VHVEG</th>\n",
       "      <td>1</td>\n",
       "      <td>0</td>\n",
       "      <td>0</td>\n",
       "      <td>0</td>\n",
       "      <td>29.85</td>\n",
       "      <td>29.85</td>\n",
       "      <td>0</td>\n",
       "      <td>1.000000</td>\n",
       "      <td>29.850000</td>\n",
       "      <td>0</td>\n",
       "    </tr>\n",
       "    <tr>\n",
       "      <th>5575-GNVDE</th>\n",
       "      <td>34</td>\n",
       "      <td>1</td>\n",
       "      <td>1</td>\n",
       "      <td>1</td>\n",
       "      <td>56.95</td>\n",
       "      <td>1889.50</td>\n",
       "      <td>0</td>\n",
       "      <td>33.178227</td>\n",
       "      <td>55.573529</td>\n",
       "      <td>0</td>\n",
       "    </tr>\n",
       "    <tr>\n",
       "      <th>3668-QPYBK</th>\n",
       "      <td>2</td>\n",
       "      <td>1</td>\n",
       "      <td>0</td>\n",
       "      <td>1</td>\n",
       "      <td>53.85</td>\n",
       "      <td>108.15</td>\n",
       "      <td>1</td>\n",
       "      <td>2.008357</td>\n",
       "      <td>54.075000</td>\n",
       "      <td>0</td>\n",
       "    </tr>\n",
       "    <tr>\n",
       "      <th>7795-CFOCW</th>\n",
       "      <td>45</td>\n",
       "      <td>0</td>\n",
       "      <td>1</td>\n",
       "      <td>2</td>\n",
       "      <td>42.30</td>\n",
       "      <td>1840.75</td>\n",
       "      <td>0</td>\n",
       "      <td>43.516548</td>\n",
       "      <td>40.905556</td>\n",
       "      <td>1</td>\n",
       "    </tr>\n",
       "    <tr>\n",
       "      <th>9237-HQITU</th>\n",
       "      <td>2</td>\n",
       "      <td>1</td>\n",
       "      <td>0</td>\n",
       "      <td>0</td>\n",
       "      <td>70.70</td>\n",
       "      <td>151.65</td>\n",
       "      <td>1</td>\n",
       "      <td>2.144979</td>\n",
       "      <td>75.825000</td>\n",
       "      <td>0</td>\n",
       "    </tr>\n",
       "    <tr>\n",
       "      <th>...</th>\n",
       "      <td>...</td>\n",
       "      <td>...</td>\n",
       "      <td>...</td>\n",
       "      <td>...</td>\n",
       "      <td>...</td>\n",
       "      <td>...</td>\n",
       "      <td>...</td>\n",
       "      <td>...</td>\n",
       "      <td>...</td>\n",
       "      <td>...</td>\n",
       "    </tr>\n",
       "    <tr>\n",
       "      <th>6840-RESVB</th>\n",
       "      <td>24</td>\n",
       "      <td>1</td>\n",
       "      <td>1</td>\n",
       "      <td>1</td>\n",
       "      <td>84.80</td>\n",
       "      <td>1990.50</td>\n",
       "      <td>0</td>\n",
       "      <td>23.472877</td>\n",
       "      <td>82.937500</td>\n",
       "      <td>0</td>\n",
       "    </tr>\n",
       "    <tr>\n",
       "      <th>2234-XADUH</th>\n",
       "      <td>72</td>\n",
       "      <td>1</td>\n",
       "      <td>1</td>\n",
       "      <td>3</td>\n",
       "      <td>103.20</td>\n",
       "      <td>7362.90</td>\n",
       "      <td>0</td>\n",
       "      <td>71.345930</td>\n",
       "      <td>102.262500</td>\n",
       "      <td>1</td>\n",
       "    </tr>\n",
       "    <tr>\n",
       "      <th>4801-JZAZL</th>\n",
       "      <td>11</td>\n",
       "      <td>0</td>\n",
       "      <td>0</td>\n",
       "      <td>0</td>\n",
       "      <td>29.60</td>\n",
       "      <td>346.45</td>\n",
       "      <td>0</td>\n",
       "      <td>11.704392</td>\n",
       "      <td>31.495455</td>\n",
       "      <td>0</td>\n",
       "    </tr>\n",
       "    <tr>\n",
       "      <th>8361-LTMKD</th>\n",
       "      <td>4</td>\n",
       "      <td>1</td>\n",
       "      <td>0</td>\n",
       "      <td>1</td>\n",
       "      <td>74.40</td>\n",
       "      <td>306.60</td>\n",
       "      <td>1</td>\n",
       "      <td>4.120968</td>\n",
       "      <td>76.650000</td>\n",
       "      <td>0</td>\n",
       "    </tr>\n",
       "    <tr>\n",
       "      <th>3186-AJIEK</th>\n",
       "      <td>66</td>\n",
       "      <td>1</td>\n",
       "      <td>2</td>\n",
       "      <td>2</td>\n",
       "      <td>105.65</td>\n",
       "      <td>6844.50</td>\n",
       "      <td>0</td>\n",
       "      <td>64.784666</td>\n",
       "      <td>103.704545</td>\n",
       "      <td>1</td>\n",
       "    </tr>\n",
       "  </tbody>\n",
       "</table>\n",
       "<p>7043 rows × 10 columns</p>\n",
       "</div>"
      ],
      "text/plain": [
       "            tenure  PhoneService  Contract  PaymentMethod  MonthlyCharges  \\\n",
       "customerID                                                                  \n",
       "7590-VHVEG       1             0         0              0           29.85   \n",
       "5575-GNVDE      34             1         1              1           56.95   \n",
       "3668-QPYBK       2             1         0              1           53.85   \n",
       "7795-CFOCW      45             0         1              2           42.30   \n",
       "9237-HQITU       2             1         0              0           70.70   \n",
       "...            ...           ...       ...            ...             ...   \n",
       "6840-RESVB      24             1         1              1           84.80   \n",
       "2234-XADUH      72             1         1              3          103.20   \n",
       "4801-JZAZL      11             0         0              0           29.60   \n",
       "8361-LTMKD       4             1         0              1           74.40   \n",
       "3186-AJIEK      66             1         2              2          105.65   \n",
       "\n",
       "            TotalCharges  Churn  TotalCharge_MonthlyCharge_ratio  \\\n",
       "customerID                                                         \n",
       "7590-VHVEG         29.85      0                         1.000000   \n",
       "5575-GNVDE       1889.50      0                        33.178227   \n",
       "3668-QPYBK        108.15      1                         2.008357   \n",
       "7795-CFOCW       1840.75      0                        43.516548   \n",
       "9237-HQITU        151.65      1                         2.144979   \n",
       "...                  ...    ...                              ...   \n",
       "6840-RESVB       1990.50      0                        23.472877   \n",
       "2234-XADUH       7362.90      0                        71.345930   \n",
       "4801-JZAZL        346.45      0                        11.704392   \n",
       "8361-LTMKD        306.60      1                         4.120968   \n",
       "3186-AJIEK       6844.50      0                        64.784666   \n",
       "\n",
       "            TotalCharge_tenure_ratio  Automatic_payment  \n",
       "customerID                                               \n",
       "7590-VHVEG                 29.850000                  0  \n",
       "5575-GNVDE                 55.573529                  0  \n",
       "3668-QPYBK                 54.075000                  0  \n",
       "7795-CFOCW                 40.905556                  1  \n",
       "9237-HQITU                 75.825000                  0  \n",
       "...                              ...                ...  \n",
       "6840-RESVB                 82.937500                  0  \n",
       "2234-XADUH                102.262500                  1  \n",
       "4801-JZAZL                 31.495455                  0  \n",
       "8361-LTMKD                 76.650000                  0  \n",
       "3186-AJIEK                103.704545                  1  \n",
       "\n",
       "[7043 rows x 10 columns]"
      ]
     },
     "execution_count": 17,
     "metadata": {},
     "output_type": "execute_result"
    }
   ],
   "source": [
    "churn_df = pd.read_csv('churn_data_numeric.csv', index_col = 'customerID')\n",
    "churn_df"
   ]
  },
  {
   "cell_type": "code",
   "execution_count": 18,
   "id": "6f33bb9f-5c98-4d95-aaf8-0dc4322a8afd",
   "metadata": {},
   "outputs": [
    {
     "data": {
      "text/html": [
       "<style type=\"text/css\">\n",
       "#T_13574_row8_col1 {\n",
       "  background-color: lightgreen;\n",
       "}\n",
       "</style>\n",
       "<table id=\"T_13574\">\n",
       "  <thead>\n",
       "    <tr>\n",
       "      <th class=\"blank level0\" >&nbsp;</th>\n",
       "      <th id=\"T_13574_level0_col0\" class=\"col_heading level0 col0\" >Description</th>\n",
       "      <th id=\"T_13574_level0_col1\" class=\"col_heading level0 col1\" >Value</th>\n",
       "    </tr>\n",
       "  </thead>\n",
       "  <tbody>\n",
       "    <tr>\n",
       "      <th id=\"T_13574_level0_row0\" class=\"row_heading level0 row0\" >0</th>\n",
       "      <td id=\"T_13574_row0_col0\" class=\"data row0 col0\" >Session id</td>\n",
       "      <td id=\"T_13574_row0_col1\" class=\"data row0 col1\" >5591</td>\n",
       "    </tr>\n",
       "    <tr>\n",
       "      <th id=\"T_13574_level0_row1\" class=\"row_heading level0 row1\" >1</th>\n",
       "      <td id=\"T_13574_row1_col0\" class=\"data row1 col0\" >Target</td>\n",
       "      <td id=\"T_13574_row1_col1\" class=\"data row1 col1\" >Churn</td>\n",
       "    </tr>\n",
       "    <tr>\n",
       "      <th id=\"T_13574_level0_row2\" class=\"row_heading level0 row2\" >2</th>\n",
       "      <td id=\"T_13574_row2_col0\" class=\"data row2 col0\" >Target type</td>\n",
       "      <td id=\"T_13574_row2_col1\" class=\"data row2 col1\" >Binary</td>\n",
       "    </tr>\n",
       "    <tr>\n",
       "      <th id=\"T_13574_level0_row3\" class=\"row_heading level0 row3\" >3</th>\n",
       "      <td id=\"T_13574_row3_col0\" class=\"data row3 col0\" >Original data shape</td>\n",
       "      <td id=\"T_13574_row3_col1\" class=\"data row3 col1\" >(7043, 10)</td>\n",
       "    </tr>\n",
       "    <tr>\n",
       "      <th id=\"T_13574_level0_row4\" class=\"row_heading level0 row4\" >4</th>\n",
       "      <td id=\"T_13574_row4_col0\" class=\"data row4 col0\" >Transformed data shape</td>\n",
       "      <td id=\"T_13574_row4_col1\" class=\"data row4 col1\" >(7043, 10)</td>\n",
       "    </tr>\n",
       "    <tr>\n",
       "      <th id=\"T_13574_level0_row5\" class=\"row_heading level0 row5\" >5</th>\n",
       "      <td id=\"T_13574_row5_col0\" class=\"data row5 col0\" >Transformed train set shape</td>\n",
       "      <td id=\"T_13574_row5_col1\" class=\"data row5 col1\" >(4930, 10)</td>\n",
       "    </tr>\n",
       "    <tr>\n",
       "      <th id=\"T_13574_level0_row6\" class=\"row_heading level0 row6\" >6</th>\n",
       "      <td id=\"T_13574_row6_col0\" class=\"data row6 col0\" >Transformed test set shape</td>\n",
       "      <td id=\"T_13574_row6_col1\" class=\"data row6 col1\" >(2113, 10)</td>\n",
       "    </tr>\n",
       "    <tr>\n",
       "      <th id=\"T_13574_level0_row7\" class=\"row_heading level0 row7\" >7</th>\n",
       "      <td id=\"T_13574_row7_col0\" class=\"data row7 col0\" >Numeric features</td>\n",
       "      <td id=\"T_13574_row7_col1\" class=\"data row7 col1\" >9</td>\n",
       "    </tr>\n",
       "    <tr>\n",
       "      <th id=\"T_13574_level0_row8\" class=\"row_heading level0 row8\" >8</th>\n",
       "      <td id=\"T_13574_row8_col0\" class=\"data row8 col0\" >Preprocess</td>\n",
       "      <td id=\"T_13574_row8_col1\" class=\"data row8 col1\" >True</td>\n",
       "    </tr>\n",
       "    <tr>\n",
       "      <th id=\"T_13574_level0_row9\" class=\"row_heading level0 row9\" >9</th>\n",
       "      <td id=\"T_13574_row9_col0\" class=\"data row9 col0\" >Imputation type</td>\n",
       "      <td id=\"T_13574_row9_col1\" class=\"data row9 col1\" >simple</td>\n",
       "    </tr>\n",
       "    <tr>\n",
       "      <th id=\"T_13574_level0_row10\" class=\"row_heading level0 row10\" >10</th>\n",
       "      <td id=\"T_13574_row10_col0\" class=\"data row10 col0\" >Numeric imputation</td>\n",
       "      <td id=\"T_13574_row10_col1\" class=\"data row10 col1\" >mean</td>\n",
       "    </tr>\n",
       "    <tr>\n",
       "      <th id=\"T_13574_level0_row11\" class=\"row_heading level0 row11\" >11</th>\n",
       "      <td id=\"T_13574_row11_col0\" class=\"data row11 col0\" >Categorical imputation</td>\n",
       "      <td id=\"T_13574_row11_col1\" class=\"data row11 col1\" >mode</td>\n",
       "    </tr>\n",
       "    <tr>\n",
       "      <th id=\"T_13574_level0_row12\" class=\"row_heading level0 row12\" >12</th>\n",
       "      <td id=\"T_13574_row12_col0\" class=\"data row12 col0\" >Fold Generator</td>\n",
       "      <td id=\"T_13574_row12_col1\" class=\"data row12 col1\" >StratifiedKFold</td>\n",
       "    </tr>\n",
       "    <tr>\n",
       "      <th id=\"T_13574_level0_row13\" class=\"row_heading level0 row13\" >13</th>\n",
       "      <td id=\"T_13574_row13_col0\" class=\"data row13 col0\" >Fold Number</td>\n",
       "      <td id=\"T_13574_row13_col1\" class=\"data row13 col1\" >10</td>\n",
       "    </tr>\n",
       "    <tr>\n",
       "      <th id=\"T_13574_level0_row14\" class=\"row_heading level0 row14\" >14</th>\n",
       "      <td id=\"T_13574_row14_col0\" class=\"data row14 col0\" >CPU Jobs</td>\n",
       "      <td id=\"T_13574_row14_col1\" class=\"data row14 col1\" >-1</td>\n",
       "    </tr>\n",
       "    <tr>\n",
       "      <th id=\"T_13574_level0_row15\" class=\"row_heading level0 row15\" >15</th>\n",
       "      <td id=\"T_13574_row15_col0\" class=\"data row15 col0\" >Use GPU</td>\n",
       "      <td id=\"T_13574_row15_col1\" class=\"data row15 col1\" >False</td>\n",
       "    </tr>\n",
       "    <tr>\n",
       "      <th id=\"T_13574_level0_row16\" class=\"row_heading level0 row16\" >16</th>\n",
       "      <td id=\"T_13574_row16_col0\" class=\"data row16 col0\" >Log Experiment</td>\n",
       "      <td id=\"T_13574_row16_col1\" class=\"data row16 col1\" >False</td>\n",
       "    </tr>\n",
       "    <tr>\n",
       "      <th id=\"T_13574_level0_row17\" class=\"row_heading level0 row17\" >17</th>\n",
       "      <td id=\"T_13574_row17_col0\" class=\"data row17 col0\" >Experiment Name</td>\n",
       "      <td id=\"T_13574_row17_col1\" class=\"data row17 col1\" >clf-default-name</td>\n",
       "    </tr>\n",
       "    <tr>\n",
       "      <th id=\"T_13574_level0_row18\" class=\"row_heading level0 row18\" >18</th>\n",
       "      <td id=\"T_13574_row18_col0\" class=\"data row18 col0\" >USI</td>\n",
       "      <td id=\"T_13574_row18_col1\" class=\"data row18 col1\" >6ad8</td>\n",
       "    </tr>\n",
       "  </tbody>\n",
       "</table>\n"
      ],
      "text/plain": [
       "<pandas.io.formats.style.Styler at 0x2541e3a4fd0>"
      ]
     },
     "metadata": {},
     "output_type": "display_data"
    }
   ],
   "source": [
    "automl = setup(churn_df, target='Churn')"
   ]
  },
  {
   "cell_type": "code",
   "execution_count": 56,
   "id": "2f85d789-d1a7-49d3-a842-3f04d0617dc3",
   "metadata": {},
   "outputs": [
    {
     "data": {
      "text/html": [],
      "text/plain": [
       "<IPython.core.display.HTML object>"
      ]
     },
     "metadata": {},
     "output_type": "display_data"
    },
    {
     "data": {
      "text/html": [
       "<style type=\"text/css\">\n",
       "#T_7dce7 th {\n",
       "  text-align: left;\n",
       "}\n",
       "#T_7dce7_row0_col0, #T_7dce7_row0_col3, #T_7dce7_row0_col4, #T_7dce7_row0_col5, #T_7dce7_row0_col6, #T_7dce7_row0_col7, #T_7dce7_row1_col0, #T_7dce7_row1_col1, #T_7dce7_row1_col2, #T_7dce7_row1_col3, #T_7dce7_row1_col4, #T_7dce7_row1_col5, #T_7dce7_row2_col0, #T_7dce7_row2_col1, #T_7dce7_row2_col2, #T_7dce7_row2_col3, #T_7dce7_row2_col4, #T_7dce7_row2_col5, #T_7dce7_row2_col6, #T_7dce7_row2_col7, #T_7dce7_row3_col0, #T_7dce7_row3_col1, #T_7dce7_row3_col2, #T_7dce7_row3_col4, #T_7dce7_row3_col6, #T_7dce7_row3_col7, #T_7dce7_row4_col0, #T_7dce7_row4_col1, #T_7dce7_row4_col2, #T_7dce7_row4_col3, #T_7dce7_row4_col5, #T_7dce7_row4_col6, #T_7dce7_row4_col7, #T_7dce7_row5_col0, #T_7dce7_row5_col1, #T_7dce7_row5_col2, #T_7dce7_row5_col3, #T_7dce7_row5_col4, #T_7dce7_row5_col5, #T_7dce7_row5_col6, #T_7dce7_row5_col7, #T_7dce7_row6_col0, #T_7dce7_row6_col1, #T_7dce7_row6_col2, #T_7dce7_row6_col3, #T_7dce7_row6_col4, #T_7dce7_row6_col5, #T_7dce7_row6_col6, #T_7dce7_row6_col7, #T_7dce7_row7_col0, #T_7dce7_row7_col1, #T_7dce7_row7_col2, #T_7dce7_row7_col3, #T_7dce7_row7_col4, #T_7dce7_row7_col5, #T_7dce7_row7_col6, #T_7dce7_row7_col7, #T_7dce7_row8_col0, #T_7dce7_row8_col1, #T_7dce7_row8_col2, #T_7dce7_row8_col3, #T_7dce7_row8_col4, #T_7dce7_row8_col5, #T_7dce7_row8_col6, #T_7dce7_row8_col7, #T_7dce7_row9_col0, #T_7dce7_row9_col1, #T_7dce7_row9_col2, #T_7dce7_row9_col3, #T_7dce7_row9_col4, #T_7dce7_row9_col5, #T_7dce7_row9_col6, #T_7dce7_row9_col7, #T_7dce7_row10_col0, #T_7dce7_row10_col1, #T_7dce7_row10_col2, #T_7dce7_row10_col3, #T_7dce7_row10_col4, #T_7dce7_row10_col5, #T_7dce7_row10_col6, #T_7dce7_row10_col7, #T_7dce7_row11_col0, #T_7dce7_row11_col1, #T_7dce7_row11_col2, #T_7dce7_row11_col3, #T_7dce7_row11_col4, #T_7dce7_row11_col5, #T_7dce7_row11_col6, #T_7dce7_row11_col7, #T_7dce7_row12_col0, #T_7dce7_row12_col1, #T_7dce7_row12_col2, #T_7dce7_row12_col3, #T_7dce7_row12_col4, #T_7dce7_row12_col5, #T_7dce7_row12_col6, #T_7dce7_row12_col7, #T_7dce7_row13_col0, #T_7dce7_row13_col1, #T_7dce7_row13_col2, #T_7dce7_row13_col3, #T_7dce7_row13_col4, #T_7dce7_row13_col5, #T_7dce7_row13_col6, #T_7dce7_row13_col7 {\n",
       "  text-align: left;\n",
       "}\n",
       "#T_7dce7_row0_col1, #T_7dce7_row0_col2, #T_7dce7_row1_col6, #T_7dce7_row1_col7, #T_7dce7_row3_col3, #T_7dce7_row3_col5, #T_7dce7_row4_col4 {\n",
       "  text-align: left;\n",
       "  background-color: yellow;\n",
       "}\n",
       "#T_7dce7_row0_col8, #T_7dce7_row1_col8, #T_7dce7_row2_col8, #T_7dce7_row3_col8, #T_7dce7_row4_col8, #T_7dce7_row5_col8, #T_7dce7_row6_col8, #T_7dce7_row7_col8, #T_7dce7_row8_col8, #T_7dce7_row9_col8, #T_7dce7_row10_col8, #T_7dce7_row11_col8, #T_7dce7_row12_col8 {\n",
       "  text-align: left;\n",
       "  background-color: lightgrey;\n",
       "}\n",
       "#T_7dce7_row13_col8 {\n",
       "  text-align: left;\n",
       "  background-color: yellow;\n",
       "  background-color: lightgrey;\n",
       "}\n",
       "</style>\n",
       "<table id=\"T_7dce7\">\n",
       "  <thead>\n",
       "    <tr>\n",
       "      <th class=\"blank level0\" >&nbsp;</th>\n",
       "      <th id=\"T_7dce7_level0_col0\" class=\"col_heading level0 col0\" >Model</th>\n",
       "      <th id=\"T_7dce7_level0_col1\" class=\"col_heading level0 col1\" >Accuracy</th>\n",
       "      <th id=\"T_7dce7_level0_col2\" class=\"col_heading level0 col2\" >AUC</th>\n",
       "      <th id=\"T_7dce7_level0_col3\" class=\"col_heading level0 col3\" >Recall</th>\n",
       "      <th id=\"T_7dce7_level0_col4\" class=\"col_heading level0 col4\" >Prec.</th>\n",
       "      <th id=\"T_7dce7_level0_col5\" class=\"col_heading level0 col5\" >F1</th>\n",
       "      <th id=\"T_7dce7_level0_col6\" class=\"col_heading level0 col6\" >Kappa</th>\n",
       "      <th id=\"T_7dce7_level0_col7\" class=\"col_heading level0 col7\" >MCC</th>\n",
       "      <th id=\"T_7dce7_level0_col8\" class=\"col_heading level0 col8\" >TT (Sec)</th>\n",
       "    </tr>\n",
       "  </thead>\n",
       "  <tbody>\n",
       "    <tr>\n",
       "      <th id=\"T_7dce7_level0_row0\" class=\"row_heading level0 row0\" >gbc</th>\n",
       "      <td id=\"T_7dce7_row0_col0\" class=\"data row0 col0\" >Gradient Boosting Classifier</td>\n",
       "      <td id=\"T_7dce7_row0_col1\" class=\"data row0 col1\" >0.7941</td>\n",
       "      <td id=\"T_7dce7_row0_col2\" class=\"data row0 col2\" >0.8376</td>\n",
       "      <td id=\"T_7dce7_row0_col3\" class=\"data row0 col3\" >0.4877</td>\n",
       "      <td id=\"T_7dce7_row0_col4\" class=\"data row0 col4\" >0.6485</td>\n",
       "      <td id=\"T_7dce7_row0_col5\" class=\"data row0 col5\" >0.5560</td>\n",
       "      <td id=\"T_7dce7_row0_col6\" class=\"data row0 col6\" >0.4257</td>\n",
       "      <td id=\"T_7dce7_row0_col7\" class=\"data row0 col7\" >0.4334</td>\n",
       "      <td id=\"T_7dce7_row0_col8\" class=\"data row0 col8\" >0.2660</td>\n",
       "    </tr>\n",
       "    <tr>\n",
       "      <th id=\"T_7dce7_level0_row1\" class=\"row_heading level0 row1\" >lr</th>\n",
       "      <td id=\"T_7dce7_row1_col0\" class=\"data row1 col0\" >Logistic Regression</td>\n",
       "      <td id=\"T_7dce7_row1_col1\" class=\"data row1 col1\" >0.7939</td>\n",
       "      <td id=\"T_7dce7_row1_col2\" class=\"data row1 col2\" >0.8357</td>\n",
       "      <td id=\"T_7dce7_row1_col3\" class=\"data row1 col3\" >0.5122</td>\n",
       "      <td id=\"T_7dce7_row1_col4\" class=\"data row1 col4\" >0.6393</td>\n",
       "      <td id=\"T_7dce7_row1_col5\" class=\"data row1 col5\" >0.5678</td>\n",
       "      <td id=\"T_7dce7_row1_col6\" class=\"data row1 col6\" >0.4349</td>\n",
       "      <td id=\"T_7dce7_row1_col7\" class=\"data row1 col7\" >0.4401</td>\n",
       "      <td id=\"T_7dce7_row1_col8\" class=\"data row1 col8\" >0.1390</td>\n",
       "    </tr>\n",
       "    <tr>\n",
       "      <th id=\"T_7dce7_level0_row2\" class=\"row_heading level0 row2\" >ada</th>\n",
       "      <td id=\"T_7dce7_row2_col0\" class=\"data row2 col0\" >Ada Boost Classifier</td>\n",
       "      <td id=\"T_7dce7_row2_col1\" class=\"data row2 col1\" >0.7931</td>\n",
       "      <td id=\"T_7dce7_row2_col2\" class=\"data row2 col2\" >0.8317</td>\n",
       "      <td id=\"T_7dce7_row2_col3\" class=\"data row2 col3\" >0.5114</td>\n",
       "      <td id=\"T_7dce7_row2_col4\" class=\"data row2 col4\" >0.6372</td>\n",
       "      <td id=\"T_7dce7_row2_col5\" class=\"data row2 col5\" >0.5672</td>\n",
       "      <td id=\"T_7dce7_row2_col6\" class=\"data row2 col6\" >0.4334</td>\n",
       "      <td id=\"T_7dce7_row2_col7\" class=\"data row2 col7\" >0.4381</td>\n",
       "      <td id=\"T_7dce7_row2_col8\" class=\"data row2 col8\" >0.1070</td>\n",
       "    </tr>\n",
       "    <tr>\n",
       "      <th id=\"T_7dce7_level0_row3\" class=\"row_heading level0 row3\" >qda</th>\n",
       "      <td id=\"T_7dce7_row3_col0\" class=\"data row3 col0\" >Quadratic Discriminant Analysis</td>\n",
       "      <td id=\"T_7dce7_row3_col1\" class=\"data row3 col1\" >0.7209</td>\n",
       "      <td id=\"T_7dce7_row3_col2\" class=\"data row3 col2\" >0.8242</td>\n",
       "      <td id=\"T_7dce7_row3_col3\" class=\"data row3 col3\" >0.7844</td>\n",
       "      <td id=\"T_7dce7_row3_col4\" class=\"data row3 col4\" >0.4844</td>\n",
       "      <td id=\"T_7dce7_row3_col5\" class=\"data row3 col5\" >0.5987</td>\n",
       "      <td id=\"T_7dce7_row3_col6\" class=\"data row3 col6\" >0.4027</td>\n",
       "      <td id=\"T_7dce7_row3_col7\" class=\"data row3 col7\" >0.4305</td>\n",
       "      <td id=\"T_7dce7_row3_col8\" class=\"data row3 col8\" >0.0260</td>\n",
       "    </tr>\n",
       "    <tr>\n",
       "      <th id=\"T_7dce7_level0_row4\" class=\"row_heading level0 row4\" >ridge</th>\n",
       "      <td id=\"T_7dce7_row4_col0\" class=\"data row4 col0\" >Ridge Classifier</td>\n",
       "      <td id=\"T_7dce7_row4_col1\" class=\"data row4 col1\" >0.7921</td>\n",
       "      <td id=\"T_7dce7_row4_col2\" class=\"data row4 col2\" >0.8234</td>\n",
       "      <td id=\"T_7dce7_row4_col3\" class=\"data row4 col3\" >0.4457</td>\n",
       "      <td id=\"T_7dce7_row4_col4\" class=\"data row4 col4\" >0.6611</td>\n",
       "      <td id=\"T_7dce7_row4_col5\" class=\"data row4 col5\" >0.5308</td>\n",
       "      <td id=\"T_7dce7_row4_col6\" class=\"data row4 col6\" >0.4042</td>\n",
       "      <td id=\"T_7dce7_row4_col7\" class=\"data row4 col7\" >0.4179</td>\n",
       "      <td id=\"T_7dce7_row4_col8\" class=\"data row4 col8\" >0.0270</td>\n",
       "    </tr>\n",
       "    <tr>\n",
       "      <th id=\"T_7dce7_level0_row5\" class=\"row_heading level0 row5\" >lda</th>\n",
       "      <td id=\"T_7dce7_row5_col0\" class=\"data row5 col0\" >Linear Discriminant Analysis</td>\n",
       "      <td id=\"T_7dce7_row5_col1\" class=\"data row5 col1\" >0.7901</td>\n",
       "      <td id=\"T_7dce7_row5_col2\" class=\"data row5 col2\" >0.8234</td>\n",
       "      <td id=\"T_7dce7_row5_col3\" class=\"data row5 col3\" >0.4970</td>\n",
       "      <td id=\"T_7dce7_row5_col4\" class=\"data row5 col4\" >0.6328</td>\n",
       "      <td id=\"T_7dce7_row5_col5\" class=\"data row5 col5\" >0.5557</td>\n",
       "      <td id=\"T_7dce7_row5_col6\" class=\"data row5 col6\" >0.4212</td>\n",
       "      <td id=\"T_7dce7_row5_col7\" class=\"data row5 col7\" >0.4270</td>\n",
       "      <td id=\"T_7dce7_row5_col8\" class=\"data row5 col8\" >0.0260</td>\n",
       "    </tr>\n",
       "    <tr>\n",
       "      <th id=\"T_7dce7_level0_row6\" class=\"row_heading level0 row6\" >lightgbm</th>\n",
       "      <td id=\"T_7dce7_row6_col0\" class=\"data row6 col0\" >Light Gradient Boosting Machine</td>\n",
       "      <td id=\"T_7dce7_row6_col1\" class=\"data row6 col1\" >0.7844</td>\n",
       "      <td id=\"T_7dce7_row6_col2\" class=\"data row6 col2\" >0.8225</td>\n",
       "      <td id=\"T_7dce7_row6_col3\" class=\"data row6 col3\" >0.5022</td>\n",
       "      <td id=\"T_7dce7_row6_col4\" class=\"data row6 col4\" >0.6148</td>\n",
       "      <td id=\"T_7dce7_row6_col5\" class=\"data row6 col5\" >0.5522</td>\n",
       "      <td id=\"T_7dce7_row6_col6\" class=\"data row6 col6\" >0.4123</td>\n",
       "      <td id=\"T_7dce7_row6_col7\" class=\"data row6 col7\" >0.4163</td>\n",
       "      <td id=\"T_7dce7_row6_col8\" class=\"data row6 col8\" >0.2580</td>\n",
       "    </tr>\n",
       "    <tr>\n",
       "      <th id=\"T_7dce7_level0_row7\" class=\"row_heading level0 row7\" >nb</th>\n",
       "      <td id=\"T_7dce7_row7_col0\" class=\"data row7 col0\" >Naive Bayes</td>\n",
       "      <td id=\"T_7dce7_row7_col1\" class=\"data row7 col1\" >0.7166</td>\n",
       "      <td id=\"T_7dce7_row7_col2\" class=\"data row7 col2\" >0.8091</td>\n",
       "      <td id=\"T_7dce7_row7_col3\" class=\"data row7 col3\" >0.7622</td>\n",
       "      <td id=\"T_7dce7_row7_col4\" class=\"data row7 col4\" >0.4787</td>\n",
       "      <td id=\"T_7dce7_row7_col5\" class=\"data row7 col5\" >0.5879</td>\n",
       "      <td id=\"T_7dce7_row7_col6\" class=\"data row7 col6\" >0.3888</td>\n",
       "      <td id=\"T_7dce7_row7_col7\" class=\"data row7 col7\" >0.4134</td>\n",
       "      <td id=\"T_7dce7_row7_col8\" class=\"data row7 col8\" >0.0240</td>\n",
       "    </tr>\n",
       "    <tr>\n",
       "      <th id=\"T_7dce7_level0_row8\" class=\"row_heading level0 row8\" >rf</th>\n",
       "      <td id=\"T_7dce7_row8_col0\" class=\"data row8 col0\" >Random Forest Classifier</td>\n",
       "      <td id=\"T_7dce7_row8_col1\" class=\"data row8 col1\" >0.7680</td>\n",
       "      <td id=\"T_7dce7_row8_col2\" class=\"data row8 col2\" >0.7981</td>\n",
       "      <td id=\"T_7dce7_row8_col3\" class=\"data row8 col3\" >0.4618</td>\n",
       "      <td id=\"T_7dce7_row8_col4\" class=\"data row8 col4\" >0.5791</td>\n",
       "      <td id=\"T_7dce7_row8_col5\" class=\"data row8 col5\" >0.5133</td>\n",
       "      <td id=\"T_7dce7_row8_col6\" class=\"data row8 col6\" >0.3637</td>\n",
       "      <td id=\"T_7dce7_row8_col7\" class=\"data row8 col7\" >0.3679</td>\n",
       "      <td id=\"T_7dce7_row8_col8\" class=\"data row8 col8\" >0.2360</td>\n",
       "    </tr>\n",
       "    <tr>\n",
       "      <th id=\"T_7dce7_level0_row9\" class=\"row_heading level0 row9\" >et</th>\n",
       "      <td id=\"T_7dce7_row9_col0\" class=\"data row9 col0\" >Extra Trees Classifier</td>\n",
       "      <td id=\"T_7dce7_row9_col1\" class=\"data row9 col1\" >0.7604</td>\n",
       "      <td id=\"T_7dce7_row9_col2\" class=\"data row9 col2\" >0.7758</td>\n",
       "      <td id=\"T_7dce7_row9_col3\" class=\"data row9 col3\" >0.4679</td>\n",
       "      <td id=\"T_7dce7_row9_col4\" class=\"data row9 col4\" >0.5586</td>\n",
       "      <td id=\"T_7dce7_row9_col5\" class=\"data row9 col5\" >0.5089</td>\n",
       "      <td id=\"T_7dce7_row9_col6\" class=\"data row9 col6\" >0.3522</td>\n",
       "      <td id=\"T_7dce7_row9_col7\" class=\"data row9 col7\" >0.3548</td>\n",
       "      <td id=\"T_7dce7_row9_col8\" class=\"data row9 col8\" >0.1850</td>\n",
       "    </tr>\n",
       "    <tr>\n",
       "      <th id=\"T_7dce7_level0_row10\" class=\"row_heading level0 row10\" >knn</th>\n",
       "      <td id=\"T_7dce7_row10_col0\" class=\"data row10 col0\" >K Neighbors Classifier</td>\n",
       "      <td id=\"T_7dce7_row10_col1\" class=\"data row10 col1\" >0.7635</td>\n",
       "      <td id=\"T_7dce7_row10_col2\" class=\"data row10 col2\" >0.7459</td>\n",
       "      <td id=\"T_7dce7_row10_col3\" class=\"data row10 col3\" >0.4465</td>\n",
       "      <td id=\"T_7dce7_row10_col4\" class=\"data row10 col4\" >0.5712</td>\n",
       "      <td id=\"T_7dce7_row10_col5\" class=\"data row10 col5\" >0.5004</td>\n",
       "      <td id=\"T_7dce7_row10_col6\" class=\"data row10 col6\" >0.3486</td>\n",
       "      <td id=\"T_7dce7_row10_col7\" class=\"data row10 col7\" >0.3536</td>\n",
       "      <td id=\"T_7dce7_row10_col8\" class=\"data row10 col8\" >0.0510</td>\n",
       "    </tr>\n",
       "    <tr>\n",
       "      <th id=\"T_7dce7_level0_row11\" class=\"row_heading level0 row11\" >svm</th>\n",
       "      <td id=\"T_7dce7_row11_col0\" class=\"data row11 col0\" >SVM - Linear Kernel</td>\n",
       "      <td id=\"T_7dce7_row11_col1\" class=\"data row11 col1\" >0.6937</td>\n",
       "      <td id=\"T_7dce7_row11_col2\" class=\"data row11 col2\" >0.7113</td>\n",
       "      <td id=\"T_7dce7_row11_col3\" class=\"data row11 col3\" >0.6013</td>\n",
       "      <td id=\"T_7dce7_row11_col4\" class=\"data row11 col4\" >0.5299</td>\n",
       "      <td id=\"T_7dce7_row11_col5\" class=\"data row11 col5\" >0.5087</td>\n",
       "      <td id=\"T_7dce7_row11_col6\" class=\"data row11 col6\" >0.3168</td>\n",
       "      <td id=\"T_7dce7_row11_col7\" class=\"data row11 col7\" >0.3538</td>\n",
       "      <td id=\"T_7dce7_row11_col8\" class=\"data row11 col8\" >0.0360</td>\n",
       "    </tr>\n",
       "    <tr>\n",
       "      <th id=\"T_7dce7_level0_row12\" class=\"row_heading level0 row12\" >dt</th>\n",
       "      <td id=\"T_7dce7_row12_col0\" class=\"data row12 col0\" >Decision Tree Classifier</td>\n",
       "      <td id=\"T_7dce7_row12_col1\" class=\"data row12 col1\" >0.7235</td>\n",
       "      <td id=\"T_7dce7_row12_col2\" class=\"data row12 col2\" >0.6494</td>\n",
       "      <td id=\"T_7dce7_row12_col3\" class=\"data row12 col3\" >0.4832</td>\n",
       "      <td id=\"T_7dce7_row12_col4\" class=\"data row12 col4\" >0.4808</td>\n",
       "      <td id=\"T_7dce7_row12_col5\" class=\"data row12 col5\" >0.4815</td>\n",
       "      <td id=\"T_7dce7_row12_col6\" class=\"data row12 col6\" >0.2932</td>\n",
       "      <td id=\"T_7dce7_row12_col7\" class=\"data row12 col7\" >0.2934</td>\n",
       "      <td id=\"T_7dce7_row12_col8\" class=\"data row12 col8\" >0.0290</td>\n",
       "    </tr>\n",
       "    <tr>\n",
       "      <th id=\"T_7dce7_level0_row13\" class=\"row_heading level0 row13\" >dummy</th>\n",
       "      <td id=\"T_7dce7_row13_col0\" class=\"data row13 col0\" >Dummy Classifier</td>\n",
       "      <td id=\"T_7dce7_row13_col1\" class=\"data row13 col1\" >0.7347</td>\n",
       "      <td id=\"T_7dce7_row13_col2\" class=\"data row13 col2\" >0.5000</td>\n",
       "      <td id=\"T_7dce7_row13_col3\" class=\"data row13 col3\" >0.0000</td>\n",
       "      <td id=\"T_7dce7_row13_col4\" class=\"data row13 col4\" >0.0000</td>\n",
       "      <td id=\"T_7dce7_row13_col5\" class=\"data row13 col5\" >0.0000</td>\n",
       "      <td id=\"T_7dce7_row13_col6\" class=\"data row13 col6\" >0.0000</td>\n",
       "      <td id=\"T_7dce7_row13_col7\" class=\"data row13 col7\" >0.0000</td>\n",
       "      <td id=\"T_7dce7_row13_col8\" class=\"data row13 col8\" >0.0220</td>\n",
       "    </tr>\n",
       "  </tbody>\n",
       "</table>\n"
      ],
      "text/plain": [
       "<pandas.io.formats.style.Styler at 0x254211e0d90>"
      ]
     },
     "metadata": {},
     "output_type": "display_data"
    },
    {
     "data": {
      "text/html": [],
      "text/plain": [
       "<IPython.core.display.HTML object>"
      ]
     },
     "metadata": {},
     "output_type": "display_data"
    }
   ],
   "source": [
    "best_model = compare_models(sort='AUC')"
   ]
  },
  {
   "cell_type": "code",
   "execution_count": 57,
   "id": "41099b69-a32b-4299-a396-a06f72afd540",
   "metadata": {},
   "outputs": [
    {
     "data": {
      "text/html": [
       "<style>#sk-container-id-4 {\n",
       "  /* Definition of color scheme common for light and dark mode */\n",
       "  --sklearn-color-text: black;\n",
       "  --sklearn-color-line: gray;\n",
       "  /* Definition of color scheme for unfitted estimators */\n",
       "  --sklearn-color-unfitted-level-0: #fff5e6;\n",
       "  --sklearn-color-unfitted-level-1: #f6e4d2;\n",
       "  --sklearn-color-unfitted-level-2: #ffe0b3;\n",
       "  --sklearn-color-unfitted-level-3: chocolate;\n",
       "  /* Definition of color scheme for fitted estimators */\n",
       "  --sklearn-color-fitted-level-0: #f0f8ff;\n",
       "  --sklearn-color-fitted-level-1: #d4ebff;\n",
       "  --sklearn-color-fitted-level-2: #b3dbfd;\n",
       "  --sklearn-color-fitted-level-3: cornflowerblue;\n",
       "\n",
       "  /* Specific color for light theme */\n",
       "  --sklearn-color-text-on-default-background: var(--sg-text-color, var(--theme-code-foreground, var(--jp-content-font-color1, black)));\n",
       "  --sklearn-color-background: var(--sg-background-color, var(--theme-background, var(--jp-layout-color0, white)));\n",
       "  --sklearn-color-border-box: var(--sg-text-color, var(--theme-code-foreground, var(--jp-content-font-color1, black)));\n",
       "  --sklearn-color-icon: #696969;\n",
       "\n",
       "  @media (prefers-color-scheme: dark) {\n",
       "    /* Redefinition of color scheme for dark theme */\n",
       "    --sklearn-color-text-on-default-background: var(--sg-text-color, var(--theme-code-foreground, var(--jp-content-font-color1, white)));\n",
       "    --sklearn-color-background: var(--sg-background-color, var(--theme-background, var(--jp-layout-color0, #111)));\n",
       "    --sklearn-color-border-box: var(--sg-text-color, var(--theme-code-foreground, var(--jp-content-font-color1, white)));\n",
       "    --sklearn-color-icon: #878787;\n",
       "  }\n",
       "}\n",
       "\n",
       "#sk-container-id-4 {\n",
       "  color: var(--sklearn-color-text);\n",
       "}\n",
       "\n",
       "#sk-container-id-4 pre {\n",
       "  padding: 0;\n",
       "}\n",
       "\n",
       "#sk-container-id-4 input.sk-hidden--visually {\n",
       "  border: 0;\n",
       "  clip: rect(1px 1px 1px 1px);\n",
       "  clip: rect(1px, 1px, 1px, 1px);\n",
       "  height: 1px;\n",
       "  margin: -1px;\n",
       "  overflow: hidden;\n",
       "  padding: 0;\n",
       "  position: absolute;\n",
       "  width: 1px;\n",
       "}\n",
       "\n",
       "#sk-container-id-4 div.sk-dashed-wrapped {\n",
       "  border: 1px dashed var(--sklearn-color-line);\n",
       "  margin: 0 0.4em 0.5em 0.4em;\n",
       "  box-sizing: border-box;\n",
       "  padding-bottom: 0.4em;\n",
       "  background-color: var(--sklearn-color-background);\n",
       "}\n",
       "\n",
       "#sk-container-id-4 div.sk-container {\n",
       "  /* jupyter's `normalize.less` sets `[hidden] { display: none; }`\n",
       "     but bootstrap.min.css set `[hidden] { display: none !important; }`\n",
       "     so we also need the `!important` here to be able to override the\n",
       "     default hidden behavior on the sphinx rendered scikit-learn.org.\n",
       "     See: https://github.com/scikit-learn/scikit-learn/issues/21755 */\n",
       "  display: inline-block !important;\n",
       "  position: relative;\n",
       "}\n",
       "\n",
       "#sk-container-id-4 div.sk-text-repr-fallback {\n",
       "  display: none;\n",
       "}\n",
       "\n",
       "div.sk-parallel-item,\n",
       "div.sk-serial,\n",
       "div.sk-item {\n",
       "  /* draw centered vertical line to link estimators */\n",
       "  background-image: linear-gradient(var(--sklearn-color-text-on-default-background), var(--sklearn-color-text-on-default-background));\n",
       "  background-size: 2px 100%;\n",
       "  background-repeat: no-repeat;\n",
       "  background-position: center center;\n",
       "}\n",
       "\n",
       "/* Parallel-specific style estimator block */\n",
       "\n",
       "#sk-container-id-4 div.sk-parallel-item::after {\n",
       "  content: \"\";\n",
       "  width: 100%;\n",
       "  border-bottom: 2px solid var(--sklearn-color-text-on-default-background);\n",
       "  flex-grow: 1;\n",
       "}\n",
       "\n",
       "#sk-container-id-4 div.sk-parallel {\n",
       "  display: flex;\n",
       "  align-items: stretch;\n",
       "  justify-content: center;\n",
       "  background-color: var(--sklearn-color-background);\n",
       "  position: relative;\n",
       "}\n",
       "\n",
       "#sk-container-id-4 div.sk-parallel-item {\n",
       "  display: flex;\n",
       "  flex-direction: column;\n",
       "}\n",
       "\n",
       "#sk-container-id-4 div.sk-parallel-item:first-child::after {\n",
       "  align-self: flex-end;\n",
       "  width: 50%;\n",
       "}\n",
       "\n",
       "#sk-container-id-4 div.sk-parallel-item:last-child::after {\n",
       "  align-self: flex-start;\n",
       "  width: 50%;\n",
       "}\n",
       "\n",
       "#sk-container-id-4 div.sk-parallel-item:only-child::after {\n",
       "  width: 0;\n",
       "}\n",
       "\n",
       "/* Serial-specific style estimator block */\n",
       "\n",
       "#sk-container-id-4 div.sk-serial {\n",
       "  display: flex;\n",
       "  flex-direction: column;\n",
       "  align-items: center;\n",
       "  background-color: var(--sklearn-color-background);\n",
       "  padding-right: 1em;\n",
       "  padding-left: 1em;\n",
       "}\n",
       "\n",
       "\n",
       "/* Toggleable style: style used for estimator/Pipeline/ColumnTransformer box that is\n",
       "clickable and can be expanded/collapsed.\n",
       "- Pipeline and ColumnTransformer use this feature and define the default style\n",
       "- Estimators will overwrite some part of the style using the `sk-estimator` class\n",
       "*/\n",
       "\n",
       "/* Pipeline and ColumnTransformer style (default) */\n",
       "\n",
       "#sk-container-id-4 div.sk-toggleable {\n",
       "  /* Default theme specific background. It is overwritten whether we have a\n",
       "  specific estimator or a Pipeline/ColumnTransformer */\n",
       "  background-color: var(--sklearn-color-background);\n",
       "}\n",
       "\n",
       "/* Toggleable label */\n",
       "#sk-container-id-4 label.sk-toggleable__label {\n",
       "  cursor: pointer;\n",
       "  display: block;\n",
       "  width: 100%;\n",
       "  margin-bottom: 0;\n",
       "  padding: 0.5em;\n",
       "  box-sizing: border-box;\n",
       "  text-align: center;\n",
       "}\n",
       "\n",
       "#sk-container-id-4 label.sk-toggleable__label-arrow:before {\n",
       "  /* Arrow on the left of the label */\n",
       "  content: \"▸\";\n",
       "  float: left;\n",
       "  margin-right: 0.25em;\n",
       "  color: var(--sklearn-color-icon);\n",
       "}\n",
       "\n",
       "#sk-container-id-4 label.sk-toggleable__label-arrow:hover:before {\n",
       "  color: var(--sklearn-color-text);\n",
       "}\n",
       "\n",
       "/* Toggleable content - dropdown */\n",
       "\n",
       "#sk-container-id-4 div.sk-toggleable__content {\n",
       "  max-height: 0;\n",
       "  max-width: 0;\n",
       "  overflow: hidden;\n",
       "  text-align: left;\n",
       "  /* unfitted */\n",
       "  background-color: var(--sklearn-color-unfitted-level-0);\n",
       "}\n",
       "\n",
       "#sk-container-id-4 div.sk-toggleable__content.fitted {\n",
       "  /* fitted */\n",
       "  background-color: var(--sklearn-color-fitted-level-0);\n",
       "}\n",
       "\n",
       "#sk-container-id-4 div.sk-toggleable__content pre {\n",
       "  margin: 0.2em;\n",
       "  border-radius: 0.25em;\n",
       "  color: var(--sklearn-color-text);\n",
       "  /* unfitted */\n",
       "  background-color: var(--sklearn-color-unfitted-level-0);\n",
       "}\n",
       "\n",
       "#sk-container-id-4 div.sk-toggleable__content.fitted pre {\n",
       "  /* unfitted */\n",
       "  background-color: var(--sklearn-color-fitted-level-0);\n",
       "}\n",
       "\n",
       "#sk-container-id-4 input.sk-toggleable__control:checked~div.sk-toggleable__content {\n",
       "  /* Expand drop-down */\n",
       "  max-height: 200px;\n",
       "  max-width: 100%;\n",
       "  overflow: auto;\n",
       "}\n",
       "\n",
       "#sk-container-id-4 input.sk-toggleable__control:checked~label.sk-toggleable__label-arrow:before {\n",
       "  content: \"▾\";\n",
       "}\n",
       "\n",
       "/* Pipeline/ColumnTransformer-specific style */\n",
       "\n",
       "#sk-container-id-4 div.sk-label input.sk-toggleable__control:checked~label.sk-toggleable__label {\n",
       "  color: var(--sklearn-color-text);\n",
       "  background-color: var(--sklearn-color-unfitted-level-2);\n",
       "}\n",
       "\n",
       "#sk-container-id-4 div.sk-label.fitted input.sk-toggleable__control:checked~label.sk-toggleable__label {\n",
       "  background-color: var(--sklearn-color-fitted-level-2);\n",
       "}\n",
       "\n",
       "/* Estimator-specific style */\n",
       "\n",
       "/* Colorize estimator box */\n",
       "#sk-container-id-4 div.sk-estimator input.sk-toggleable__control:checked~label.sk-toggleable__label {\n",
       "  /* unfitted */\n",
       "  background-color: var(--sklearn-color-unfitted-level-2);\n",
       "}\n",
       "\n",
       "#sk-container-id-4 div.sk-estimator.fitted input.sk-toggleable__control:checked~label.sk-toggleable__label {\n",
       "  /* fitted */\n",
       "  background-color: var(--sklearn-color-fitted-level-2);\n",
       "}\n",
       "\n",
       "#sk-container-id-4 div.sk-label label.sk-toggleable__label,\n",
       "#sk-container-id-4 div.sk-label label {\n",
       "  /* The background is the default theme color */\n",
       "  color: var(--sklearn-color-text-on-default-background);\n",
       "}\n",
       "\n",
       "/* On hover, darken the color of the background */\n",
       "#sk-container-id-4 div.sk-label:hover label.sk-toggleable__label {\n",
       "  color: var(--sklearn-color-text);\n",
       "  background-color: var(--sklearn-color-unfitted-level-2);\n",
       "}\n",
       "\n",
       "/* Label box, darken color on hover, fitted */\n",
       "#sk-container-id-4 div.sk-label.fitted:hover label.sk-toggleable__label.fitted {\n",
       "  color: var(--sklearn-color-text);\n",
       "  background-color: var(--sklearn-color-fitted-level-2);\n",
       "}\n",
       "\n",
       "/* Estimator label */\n",
       "\n",
       "#sk-container-id-4 div.sk-label label {\n",
       "  font-family: monospace;\n",
       "  font-weight: bold;\n",
       "  display: inline-block;\n",
       "  line-height: 1.2em;\n",
       "}\n",
       "\n",
       "#sk-container-id-4 div.sk-label-container {\n",
       "  text-align: center;\n",
       "}\n",
       "\n",
       "/* Estimator-specific */\n",
       "#sk-container-id-4 div.sk-estimator {\n",
       "  font-family: monospace;\n",
       "  border: 1px dotted var(--sklearn-color-border-box);\n",
       "  border-radius: 0.25em;\n",
       "  box-sizing: border-box;\n",
       "  margin-bottom: 0.5em;\n",
       "  /* unfitted */\n",
       "  background-color: var(--sklearn-color-unfitted-level-0);\n",
       "}\n",
       "\n",
       "#sk-container-id-4 div.sk-estimator.fitted {\n",
       "  /* fitted */\n",
       "  background-color: var(--sklearn-color-fitted-level-0);\n",
       "}\n",
       "\n",
       "/* on hover */\n",
       "#sk-container-id-4 div.sk-estimator:hover {\n",
       "  /* unfitted */\n",
       "  background-color: var(--sklearn-color-unfitted-level-2);\n",
       "}\n",
       "\n",
       "#sk-container-id-4 div.sk-estimator.fitted:hover {\n",
       "  /* fitted */\n",
       "  background-color: var(--sklearn-color-fitted-level-2);\n",
       "}\n",
       "\n",
       "/* Specification for estimator info (e.g. \"i\" and \"?\") */\n",
       "\n",
       "/* Common style for \"i\" and \"?\" */\n",
       "\n",
       ".sk-estimator-doc-link,\n",
       "a:link.sk-estimator-doc-link,\n",
       "a:visited.sk-estimator-doc-link {\n",
       "  float: right;\n",
       "  font-size: smaller;\n",
       "  line-height: 1em;\n",
       "  font-family: monospace;\n",
       "  background-color: var(--sklearn-color-background);\n",
       "  border-radius: 1em;\n",
       "  height: 1em;\n",
       "  width: 1em;\n",
       "  text-decoration: none !important;\n",
       "  margin-left: 1ex;\n",
       "  /* unfitted */\n",
       "  border: var(--sklearn-color-unfitted-level-1) 1pt solid;\n",
       "  color: var(--sklearn-color-unfitted-level-1);\n",
       "}\n",
       "\n",
       ".sk-estimator-doc-link.fitted,\n",
       "a:link.sk-estimator-doc-link.fitted,\n",
       "a:visited.sk-estimator-doc-link.fitted {\n",
       "  /* fitted */\n",
       "  border: var(--sklearn-color-fitted-level-1) 1pt solid;\n",
       "  color: var(--sklearn-color-fitted-level-1);\n",
       "}\n",
       "\n",
       "/* On hover */\n",
       "div.sk-estimator:hover .sk-estimator-doc-link:hover,\n",
       ".sk-estimator-doc-link:hover,\n",
       "div.sk-label-container:hover .sk-estimator-doc-link:hover,\n",
       ".sk-estimator-doc-link:hover {\n",
       "  /* unfitted */\n",
       "  background-color: var(--sklearn-color-unfitted-level-3);\n",
       "  color: var(--sklearn-color-background);\n",
       "  text-decoration: none;\n",
       "}\n",
       "\n",
       "div.sk-estimator.fitted:hover .sk-estimator-doc-link.fitted:hover,\n",
       ".sk-estimator-doc-link.fitted:hover,\n",
       "div.sk-label-container:hover .sk-estimator-doc-link.fitted:hover,\n",
       ".sk-estimator-doc-link.fitted:hover {\n",
       "  /* fitted */\n",
       "  background-color: var(--sklearn-color-fitted-level-3);\n",
       "  color: var(--sklearn-color-background);\n",
       "  text-decoration: none;\n",
       "}\n",
       "\n",
       "/* Span, style for the box shown on hovering the info icon */\n",
       ".sk-estimator-doc-link span {\n",
       "  display: none;\n",
       "  z-index: 9999;\n",
       "  position: relative;\n",
       "  font-weight: normal;\n",
       "  right: .2ex;\n",
       "  padding: .5ex;\n",
       "  margin: .5ex;\n",
       "  width: min-content;\n",
       "  min-width: 20ex;\n",
       "  max-width: 50ex;\n",
       "  color: var(--sklearn-color-text);\n",
       "  box-shadow: 2pt 2pt 4pt #999;\n",
       "  /* unfitted */\n",
       "  background: var(--sklearn-color-unfitted-level-0);\n",
       "  border: .5pt solid var(--sklearn-color-unfitted-level-3);\n",
       "}\n",
       "\n",
       ".sk-estimator-doc-link.fitted span {\n",
       "  /* fitted */\n",
       "  background: var(--sklearn-color-fitted-level-0);\n",
       "  border: var(--sklearn-color-fitted-level-3);\n",
       "}\n",
       "\n",
       ".sk-estimator-doc-link:hover span {\n",
       "  display: block;\n",
       "}\n",
       "\n",
       "/* \"?\"-specific style due to the `<a>` HTML tag */\n",
       "\n",
       "#sk-container-id-4 a.estimator_doc_link {\n",
       "  float: right;\n",
       "  font-size: 1rem;\n",
       "  line-height: 1em;\n",
       "  font-family: monospace;\n",
       "  background-color: var(--sklearn-color-background);\n",
       "  border-radius: 1rem;\n",
       "  height: 1rem;\n",
       "  width: 1rem;\n",
       "  text-decoration: none;\n",
       "  /* unfitted */\n",
       "  color: var(--sklearn-color-unfitted-level-1);\n",
       "  border: var(--sklearn-color-unfitted-level-1) 1pt solid;\n",
       "}\n",
       "\n",
       "#sk-container-id-4 a.estimator_doc_link.fitted {\n",
       "  /* fitted */\n",
       "  border: var(--sklearn-color-fitted-level-1) 1pt solid;\n",
       "  color: var(--sklearn-color-fitted-level-1);\n",
       "}\n",
       "\n",
       "/* On hover */\n",
       "#sk-container-id-4 a.estimator_doc_link:hover {\n",
       "  /* unfitted */\n",
       "  background-color: var(--sklearn-color-unfitted-level-3);\n",
       "  color: var(--sklearn-color-background);\n",
       "  text-decoration: none;\n",
       "}\n",
       "\n",
       "#sk-container-id-4 a.estimator_doc_link.fitted:hover {\n",
       "  /* fitted */\n",
       "  background-color: var(--sklearn-color-fitted-level-3);\n",
       "}\n",
       "</style><div id=\"sk-container-id-4\" class=\"sk-top-container\"><div class=\"sk-text-repr-fallback\"><pre>GradientBoostingClassifier(ccp_alpha=0.0, criterion=&#x27;friedman_mse&#x27;, init=None,\n",
       "                           learning_rate=0.1, loss=&#x27;log_loss&#x27;, max_depth=3,\n",
       "                           max_features=None, max_leaf_nodes=None,\n",
       "                           min_impurity_decrease=0.0, min_samples_leaf=1,\n",
       "                           min_samples_split=2, min_weight_fraction_leaf=0.0,\n",
       "                           n_estimators=100, n_iter_no_change=None,\n",
       "                           random_state=5591, subsample=1.0, tol=0.0001,\n",
       "                           validation_fraction=0.1, verbose=0,\n",
       "                           warm_start=False)</pre><b>In a Jupyter environment, please rerun this cell to show the HTML representation or trust the notebook. <br />On GitHub, the HTML representation is unable to render, please try loading this page with nbviewer.org.</b></div><div class=\"sk-container\" hidden><div class=\"sk-item\"><div class=\"sk-estimator fitted sk-toggleable\"><input class=\"sk-toggleable__control sk-hidden--visually\" id=\"sk-estimator-id-4\" type=\"checkbox\" checked><label for=\"sk-estimator-id-4\" class=\"sk-toggleable__label fitted sk-toggleable__label-arrow fitted\">&nbsp;&nbsp;GradientBoostingClassifier<a class=\"sk-estimator-doc-link fitted\" rel=\"noreferrer\" target=\"_blank\" href=\"https://scikit-learn.org/1.4/modules/generated/sklearn.ensemble.GradientBoostingClassifier.html\">?<span>Documentation for GradientBoostingClassifier</span></a><span class=\"sk-estimator-doc-link fitted\">i<span>Fitted</span></span></label><div class=\"sk-toggleable__content fitted\"><pre>GradientBoostingClassifier(ccp_alpha=0.0, criterion=&#x27;friedman_mse&#x27;, init=None,\n",
       "                           learning_rate=0.1, loss=&#x27;log_loss&#x27;, max_depth=3,\n",
       "                           max_features=None, max_leaf_nodes=None,\n",
       "                           min_impurity_decrease=0.0, min_samples_leaf=1,\n",
       "                           min_samples_split=2, min_weight_fraction_leaf=0.0,\n",
       "                           n_estimators=100, n_iter_no_change=None,\n",
       "                           random_state=5591, subsample=1.0, tol=0.0001,\n",
       "                           validation_fraction=0.1, verbose=0,\n",
       "                           warm_start=False)</pre></div> </div></div></div></div>"
      ],
      "text/plain": [
       "GradientBoostingClassifier(ccp_alpha=0.0, criterion='friedman_mse', init=None,\n",
       "                           learning_rate=0.1, loss='log_loss', max_depth=3,\n",
       "                           max_features=None, max_leaf_nodes=None,\n",
       "                           min_impurity_decrease=0.0, min_samples_leaf=1,\n",
       "                           min_samples_split=2, min_weight_fraction_leaf=0.0,\n",
       "                           n_estimators=100, n_iter_no_change=None,\n",
       "                           random_state=5591, subsample=1.0, tol=0.0001,\n",
       "                           validation_fraction=0.1, verbose=0,\n",
       "                           warm_start=False)"
      ]
     },
     "execution_count": 57,
     "metadata": {},
     "output_type": "execute_result"
    }
   ],
   "source": [
    "best_model"
   ]
  },
  {
   "cell_type": "code",
   "execution_count": 58,
   "id": "fa43075a-40e8-4959-bff4-f5bb924ec786",
   "metadata": {},
   "outputs": [
    {
     "name": "stdout",
     "output_type": "stream",
     "text": [
      "Transformation Pipeline and Model Successfully Saved\n"
     ]
    },
    {
     "data": {
      "text/plain": [
       "(Pipeline(memory=Memory(location=None),\n",
       "          steps=[('numerical_imputer',\n",
       "                  TransformerWrapper(exclude=None,\n",
       "                                     include=['tenure', 'PhoneService',\n",
       "                                              'Contract', 'PaymentMethod',\n",
       "                                              'MonthlyCharges', 'TotalCharges',\n",
       "                                              'TotalCharge_MonthlyCharge_ratio',\n",
       "                                              'TotalCharge_tenure_ratio',\n",
       "                                              'Automatic_payment'],\n",
       "                                     transformer=SimpleImputer(add_indicator=False,\n",
       "                                                               copy=True,\n",
       "                                                               fill_value=None,\n",
       "                                                               keep_e...\n",
       "                                             criterion='friedman_mse', init=None,\n",
       "                                             learning_rate=0.1, loss='log_loss',\n",
       "                                             max_depth=3, max_features=None,\n",
       "                                             max_leaf_nodes=None,\n",
       "                                             min_impurity_decrease=0.0,\n",
       "                                             min_samples_leaf=1,\n",
       "                                             min_samples_split=2,\n",
       "                                             min_weight_fraction_leaf=0.0,\n",
       "                                             n_estimators=100,\n",
       "                                             n_iter_no_change=None,\n",
       "                                             random_state=5591, subsample=1.0,\n",
       "                                             tol=0.0001, validation_fraction=0.1,\n",
       "                                             verbose=0, warm_start=False))],\n",
       "          verbose=False),\n",
       " 'GBC.pkl')"
      ]
     },
     "execution_count": 58,
     "metadata": {},
     "output_type": "execute_result"
    }
   ],
   "source": [
    "save_model(best_model, 'GBC')"
   ]
  },
  {
   "cell_type": "code",
   "execution_count": 59,
   "id": "28949d16-860e-4d05-b81b-5cdb97961d13",
   "metadata": {},
   "outputs": [],
   "source": [
    "with open('GBC_model.pk', 'wb') as f:\n",
    "    pickle.dump(best_model, f)"
   ]
  },
  {
   "cell_type": "code",
   "execution_count": 60,
   "id": "cc1061cf-a835-4fcc-b063-db7ac525b576",
   "metadata": {},
   "outputs": [],
   "source": [
    "with open('GBC_model.pk', 'rb') as f:\n",
    "    loaded_model = pickle.load(f)"
   ]
  },
  {
   "cell_type": "code",
   "execution_count": 62,
   "id": "2c1e1a9e-ee3d-4c51-b76b-97656f9462d9",
   "metadata": {},
   "outputs": [
    {
     "ename": "KeyError",
     "evalue": "\"['Churn'] not found in axis\"",
     "output_type": "error",
     "traceback": [
      "\u001b[31m---------------------------------------------------------------------------\u001b[39m",
      "\u001b[31mKeyError\u001b[39m                                  Traceback (most recent call last)",
      "\u001b[36mCell\u001b[39m\u001b[36m \u001b[39m\u001b[32mIn[62]\u001b[39m\u001b[32m, line 2\u001b[39m\n\u001b[32m      1\u001b[39m new_data = churn_df.iloc[-\u001b[32m2\u001b[39m:-\u001b[32m1\u001b[39m].copy()\n\u001b[32m----> \u001b[39m\u001b[32m2\u001b[39m \u001b[43mnew_data\u001b[49m\u001b[43m.\u001b[49m\u001b[43mdrop\u001b[49m\u001b[43m(\u001b[49m\u001b[33;43m'\u001b[39;49m\u001b[33;43mChurn\u001b[39;49m\u001b[33;43m'\u001b[39;49m\u001b[43m,\u001b[49m\u001b[43m \u001b[49m\u001b[43maxis\u001b[49m\u001b[43m=\u001b[49m\u001b[32;43m1\u001b[39;49m\u001b[43m,\u001b[49m\u001b[43m \u001b[49m\u001b[43minplace\u001b[49m\u001b[43m=\u001b[49m\u001b[38;5;28;43;01mTrue\u001b[39;49;00m\u001b[43m)\u001b[49m\n\u001b[32m      3\u001b[39m prediction = loaded_model.predict(new_data)\n",
      "\u001b[36mFile \u001b[39m\u001b[32m~\\anaconda3\\envs\\OldPython\\Lib\\site-packages\\pandas\\core\\frame.py:5344\u001b[39m, in \u001b[36mDataFrame.drop\u001b[39m\u001b[34m(self, labels, axis, index, columns, level, inplace, errors)\u001b[39m\n\u001b[32m   5196\u001b[39m \u001b[38;5;28;01mdef\u001b[39;00m\u001b[38;5;250m \u001b[39m\u001b[34mdrop\u001b[39m(\n\u001b[32m   5197\u001b[39m     \u001b[38;5;28mself\u001b[39m,\n\u001b[32m   5198\u001b[39m     labels: IndexLabel | \u001b[38;5;28;01mNone\u001b[39;00m = \u001b[38;5;28;01mNone\u001b[39;00m,\n\u001b[32m   (...)\u001b[39m\u001b[32m   5205\u001b[39m     errors: IgnoreRaise = \u001b[33m\"\u001b[39m\u001b[33mraise\u001b[39m\u001b[33m\"\u001b[39m,\n\u001b[32m   5206\u001b[39m ) -> DataFrame | \u001b[38;5;28;01mNone\u001b[39;00m:\n\u001b[32m   5207\u001b[39m \u001b[38;5;250m    \u001b[39m\u001b[33;03m\"\"\"\u001b[39;00m\n\u001b[32m   5208\u001b[39m \u001b[33;03m    Drop specified labels from rows or columns.\u001b[39;00m\n\u001b[32m   5209\u001b[39m \n\u001b[32m   (...)\u001b[39m\u001b[32m   5342\u001b[39m \u001b[33;03m            weight  1.0     0.8\u001b[39;00m\n\u001b[32m   5343\u001b[39m \u001b[33;03m    \"\"\"\u001b[39;00m\n\u001b[32m-> \u001b[39m\u001b[32m5344\u001b[39m     \u001b[38;5;28;01mreturn\u001b[39;00m \u001b[38;5;28;43msuper\u001b[39;49m\u001b[43m(\u001b[49m\u001b[43m)\u001b[49m\u001b[43m.\u001b[49m\u001b[43mdrop\u001b[49m\u001b[43m(\u001b[49m\n\u001b[32m   5345\u001b[39m \u001b[43m        \u001b[49m\u001b[43mlabels\u001b[49m\u001b[43m=\u001b[49m\u001b[43mlabels\u001b[49m\u001b[43m,\u001b[49m\n\u001b[32m   5346\u001b[39m \u001b[43m        \u001b[49m\u001b[43maxis\u001b[49m\u001b[43m=\u001b[49m\u001b[43maxis\u001b[49m\u001b[43m,\u001b[49m\n\u001b[32m   5347\u001b[39m \u001b[43m        \u001b[49m\u001b[43mindex\u001b[49m\u001b[43m=\u001b[49m\u001b[43mindex\u001b[49m\u001b[43m,\u001b[49m\n\u001b[32m   5348\u001b[39m \u001b[43m        \u001b[49m\u001b[43mcolumns\u001b[49m\u001b[43m=\u001b[49m\u001b[43mcolumns\u001b[49m\u001b[43m,\u001b[49m\n\u001b[32m   5349\u001b[39m \u001b[43m        \u001b[49m\u001b[43mlevel\u001b[49m\u001b[43m=\u001b[49m\u001b[43mlevel\u001b[49m\u001b[43m,\u001b[49m\n\u001b[32m   5350\u001b[39m \u001b[43m        \u001b[49m\u001b[43minplace\u001b[49m\u001b[43m=\u001b[49m\u001b[43minplace\u001b[49m\u001b[43m,\u001b[49m\n\u001b[32m   5351\u001b[39m \u001b[43m        \u001b[49m\u001b[43merrors\u001b[49m\u001b[43m=\u001b[49m\u001b[43merrors\u001b[49m\u001b[43m,\u001b[49m\n\u001b[32m   5352\u001b[39m \u001b[43m    \u001b[49m\u001b[43m)\u001b[49m\n",
      "\u001b[36mFile \u001b[39m\u001b[32m~\\anaconda3\\envs\\OldPython\\Lib\\site-packages\\pandas\\core\\generic.py:4711\u001b[39m, in \u001b[36mNDFrame.drop\u001b[39m\u001b[34m(self, labels, axis, index, columns, level, inplace, errors)\u001b[39m\n\u001b[32m   4709\u001b[39m \u001b[38;5;28;01mfor\u001b[39;00m axis, labels \u001b[38;5;129;01min\u001b[39;00m axes.items():\n\u001b[32m   4710\u001b[39m     \u001b[38;5;28;01mif\u001b[39;00m labels \u001b[38;5;129;01mis\u001b[39;00m \u001b[38;5;129;01mnot\u001b[39;00m \u001b[38;5;28;01mNone\u001b[39;00m:\n\u001b[32m-> \u001b[39m\u001b[32m4711\u001b[39m         obj = \u001b[43mobj\u001b[49m\u001b[43m.\u001b[49m\u001b[43m_drop_axis\u001b[49m\u001b[43m(\u001b[49m\u001b[43mlabels\u001b[49m\u001b[43m,\u001b[49m\u001b[43m \u001b[49m\u001b[43maxis\u001b[49m\u001b[43m,\u001b[49m\u001b[43m \u001b[49m\u001b[43mlevel\u001b[49m\u001b[43m=\u001b[49m\u001b[43mlevel\u001b[49m\u001b[43m,\u001b[49m\u001b[43m \u001b[49m\u001b[43merrors\u001b[49m\u001b[43m=\u001b[49m\u001b[43merrors\u001b[49m\u001b[43m)\u001b[49m\n\u001b[32m   4713\u001b[39m \u001b[38;5;28;01mif\u001b[39;00m inplace:\n\u001b[32m   4714\u001b[39m     \u001b[38;5;28mself\u001b[39m._update_inplace(obj)\n",
      "\u001b[36mFile \u001b[39m\u001b[32m~\\anaconda3\\envs\\OldPython\\Lib\\site-packages\\pandas\\core\\generic.py:4753\u001b[39m, in \u001b[36mNDFrame._drop_axis\u001b[39m\u001b[34m(self, labels, axis, level, errors, only_slice)\u001b[39m\n\u001b[32m   4751\u001b[39m         new_axis = axis.drop(labels, level=level, errors=errors)\n\u001b[32m   4752\u001b[39m     \u001b[38;5;28;01melse\u001b[39;00m:\n\u001b[32m-> \u001b[39m\u001b[32m4753\u001b[39m         new_axis = \u001b[43maxis\u001b[49m\u001b[43m.\u001b[49m\u001b[43mdrop\u001b[49m\u001b[43m(\u001b[49m\u001b[43mlabels\u001b[49m\u001b[43m,\u001b[49m\u001b[43m \u001b[49m\u001b[43merrors\u001b[49m\u001b[43m=\u001b[49m\u001b[43merrors\u001b[49m\u001b[43m)\u001b[49m\n\u001b[32m   4754\u001b[39m     indexer = axis.get_indexer(new_axis)\n\u001b[32m   4756\u001b[39m \u001b[38;5;66;03m# Case for non-unique axis\u001b[39;00m\n\u001b[32m   4757\u001b[39m \u001b[38;5;28;01melse\u001b[39;00m:\n",
      "\u001b[36mFile \u001b[39m\u001b[32m~\\anaconda3\\envs\\OldPython\\Lib\\site-packages\\pandas\\core\\indexes\\base.py:7000\u001b[39m, in \u001b[36mIndex.drop\u001b[39m\u001b[34m(self, labels, errors)\u001b[39m\n\u001b[32m   6998\u001b[39m \u001b[38;5;28;01mif\u001b[39;00m mask.any():\n\u001b[32m   6999\u001b[39m     \u001b[38;5;28;01mif\u001b[39;00m errors != \u001b[33m\"\u001b[39m\u001b[33mignore\u001b[39m\u001b[33m\"\u001b[39m:\n\u001b[32m-> \u001b[39m\u001b[32m7000\u001b[39m         \u001b[38;5;28;01mraise\u001b[39;00m \u001b[38;5;167;01mKeyError\u001b[39;00m(\u001b[33mf\u001b[39m\u001b[33m\"\u001b[39m\u001b[38;5;132;01m{\u001b[39;00mlabels[mask].tolist()\u001b[38;5;132;01m}\u001b[39;00m\u001b[33m not found in axis\u001b[39m\u001b[33m\"\u001b[39m)\n\u001b[32m   7001\u001b[39m     indexer = indexer[~mask]\n\u001b[32m   7002\u001b[39m \u001b[38;5;28;01mreturn\u001b[39;00m \u001b[38;5;28mself\u001b[39m.delete(indexer)\n",
      "\u001b[31mKeyError\u001b[39m: \"['Churn'] not found in axis\""
     ]
    }
   ],
   "source": [
    "new_data = churn_df.iloc[-2:-1].copy()\n",
    "new_data.drop('Churn', axis=1, inplace=True)\n",
    "prediction = loaded_model.predict(new_data)"
   ]
  },
  {
   "cell_type": "code",
   "execution_count": 63,
   "id": "03511b20-8359-4ce9-9515-12a8beed783e",
   "metadata": {},
   "outputs": [
    {
     "name": "stdout",
     "output_type": "stream",
     "text": [
      "Transformation Pipeline and Model Successfully Loaded\n"
     ]
    }
   ],
   "source": [
    "loaded_gbc = load_model('GBC')"
   ]
  },
  {
   "cell_type": "code",
   "execution_count": 64,
   "id": "b557fdb6-7183-4327-bc31-c3c8358ec18d",
   "metadata": {},
   "outputs": [
    {
     "data": {
      "text/html": [],
      "text/plain": [
       "<IPython.core.display.HTML object>"
      ]
     },
     "metadata": {},
     "output_type": "display_data"
    },
    {
     "data": {
      "text/html": [
       "<div>\n",
       "<style scoped>\n",
       "    .dataframe tbody tr th:only-of-type {\n",
       "        vertical-align: middle;\n",
       "    }\n",
       "\n",
       "    .dataframe tbody tr th {\n",
       "        vertical-align: top;\n",
       "    }\n",
       "\n",
       "    .dataframe thead th {\n",
       "        text-align: right;\n",
       "    }\n",
       "</style>\n",
       "<table border=\"1\" class=\"dataframe\">\n",
       "  <thead>\n",
       "    <tr style=\"text-align: right;\">\n",
       "      <th></th>\n",
       "      <th>tenure</th>\n",
       "      <th>PhoneService</th>\n",
       "      <th>Contract</th>\n",
       "      <th>PaymentMethod</th>\n",
       "      <th>MonthlyCharges</th>\n",
       "      <th>TotalCharges</th>\n",
       "      <th>TotalCharge_MonthlyCharge_ratio</th>\n",
       "      <th>TotalCharge_tenure_ratio</th>\n",
       "      <th>Automatic_payment</th>\n",
       "      <th>prediction_label</th>\n",
       "      <th>prediction_score</th>\n",
       "    </tr>\n",
       "    <tr>\n",
       "      <th>customerID</th>\n",
       "      <th></th>\n",
       "      <th></th>\n",
       "      <th></th>\n",
       "      <th></th>\n",
       "      <th></th>\n",
       "      <th></th>\n",
       "      <th></th>\n",
       "      <th></th>\n",
       "      <th></th>\n",
       "      <th></th>\n",
       "      <th></th>\n",
       "    </tr>\n",
       "  </thead>\n",
       "  <tbody>\n",
       "    <tr>\n",
       "      <th>7832-POPKP</th>\n",
       "      <td>62</td>\n",
       "      <td>1</td>\n",
       "      <td>0</td>\n",
       "      <td>0</td>\n",
       "      <td>101.699997</td>\n",
       "      <td>3106.560059</td>\n",
       "      <td>30.546312</td>\n",
       "      <td>50.105808</td>\n",
       "      <td>0</td>\n",
       "      <td>0</td>\n",
       "      <td>0.6479</td>\n",
       "    </tr>\n",
       "  </tbody>\n",
       "</table>\n",
       "</div>"
      ],
      "text/plain": [
       "            tenure  PhoneService  Contract  PaymentMethod  MonthlyCharges  \\\n",
       "customerID                                                                  \n",
       "7832-POPKP      62             1         0              0      101.699997   \n",
       "\n",
       "            TotalCharges  TotalCharge_MonthlyCharge_ratio  \\\n",
       "customerID                                                  \n",
       "7832-POPKP   3106.560059                        30.546312   \n",
       "\n",
       "            TotalCharge_tenure_ratio  Automatic_payment  prediction_label  \\\n",
       "customerID                                                                  \n",
       "7832-POPKP                 50.105808                  0                 0   \n",
       "\n",
       "            prediction_score  \n",
       "customerID                    \n",
       "7832-POPKP            0.6479  "
      ]
     },
     "execution_count": 64,
     "metadata": {},
     "output_type": "execute_result"
    }
   ],
   "source": [
    "predict_model(loaded_gbc, new_data)"
   ]
  },
  {
   "cell_type": "code",
   "execution_count": 41,
   "id": "faace176-fcc3-452a-a8f7-94349c47821c",
   "metadata": {},
   "outputs": [],
   "source": [
    "#Code('predict_churn.py')"
   ]
  },
  {
   "cell_type": "code",
   "execution_count": 65,
   "id": "8ed36be9-585e-4189-a9fe-e0271dff851d",
   "metadata": {},
   "outputs": [
    {
     "name": "stdout",
     "output_type": "stream",
     "text": [
      "Transformation Pipeline and Model Successfully Loaded\n"
     ]
    },
    {
     "data": {
      "text/html": [],
      "text/plain": [
       "<IPython.core.display.HTML object>"
      ]
     },
     "metadata": {},
     "output_type": "display_data"
    },
    {
     "name": "stdout",
     "output_type": "stream",
     "text": [
      "predictions:\n",
      "           Churn_prediction  prediction_score\n",
      "customerID                                   \n",
      "9305-CKSKC            Churn            0.5465\n",
      "1452-KNGVK         No Churn            0.8660\n",
      "6723-OKKJM         No Churn            0.9365\n",
      "7832-POPKP         No Churn            0.6479\n",
      "6348-TACGU         No Churn            0.9450\n"
     ]
    }
   ],
   "source": [
    "%run predict_churn.py"
   ]
  },
  {
   "cell_type": "markdown",
   "id": "c49db562",
   "metadata": {},
   "source": [
    "# Summary"
   ]
  },
  {
   "cell_type": "markdown",
   "id": "9533a1cd",
   "metadata": {},
   "source": [
    "In this assignment I began by loading in the pre processed data from week 2 into the churn data frame. Then I set up the automl that will be used to trai our model on with the target being churn. After the comapre models function was used to compare and find the best model to be used for our dataset and target. The gradient boosing classifier was determined to be the best model based on the having the highest accuracy and AUC while being very close to all the other metrics except recall. The model was then saved and processed so that it can be used with a python script and other data sets. Last the predict_churn python script was executed whch gave the results [1,0,0,0,0]. This does not perfectly predict based on our new data but we do not know how that would look large scale."
   ]
  }
 ],
 "metadata": {
  "kernelspec": {
   "display_name": "Python 3 (ipykernel)",
   "language": "python",
   "name": "python3"
  },
  "language_info": {
   "codemirror_mode": {
    "name": "ipython",
    "version": 3
   },
   "file_extension": ".py",
   "mimetype": "text/x-python",
   "name": "python",
   "nbconvert_exporter": "python",
   "pygments_lexer": "ipython3",
   "version": "3.11.13"
  },
  "widgets": {
   "application/vnd.jupyter.widget-state+json": {
    "state": {
     "0738c0a01d0041269298b77ca27270a6": {
      "model_module": "@jupyter-widgets/base",
      "model_module_version": "2.0.0",
      "model_name": "LayoutModel",
      "state": {}
     },
     "0870bb4d9e934452af9b7d772f2516e8": {
      "model_module": "@jupyter-widgets/controls",
      "model_module_version": "2.0.0",
      "model_name": "ProgressStyleModel",
      "state": {
       "description_width": ""
      }
     },
     "091dfb0901ce421d8faf18d1b4758fe2": {
      "model_module": "@jupyter-widgets/controls",
      "model_module_version": "2.0.0",
      "model_name": "ProgressStyleModel",
      "state": {
       "description_width": ""
      }
     },
     "112b4dcfb6bc4c01912ae6b1ff555e28": {
      "model_module": "@jupyter-widgets/base",
      "model_module_version": "2.0.0",
      "model_name": "LayoutModel",
      "state": {
       "visibility": "hidden"
      }
     },
     "13274254f1a24361b3ad1162578c8a43": {
      "model_module": "@jupyter-widgets/controls",
      "model_module_version": "2.0.0",
      "model_name": "FloatProgressModel",
      "state": {
       "layout": "IPY_MODEL_867f7f9afc824e6db11f2a0400b71c11",
       "max": 61,
       "style": "IPY_MODEL_a5517468cd7d4fbc911102bff68a909f",
       "value": 61
      }
     },
     "1fd5c8f5091748eca7c7c44914863e29": {
      "model_module": "@jupyter-widgets/controls",
      "model_module_version": "2.0.0",
      "model_name": "HTMLStyleModel",
      "state": {
       "description_width": "",
       "font_size": null,
       "text_color": null
      }
     },
     "229d85bcb02b45d68fa5ebd3dbde18d5": {
      "model_module": "@jupyter-widgets/controls",
      "model_module_version": "2.0.0",
      "model_name": "HTMLStyleModel",
      "state": {
       "description_width": "",
       "font_size": null,
       "text_color": null
      }
     },
     "2c2ba340fd1041b4b610530e9112c4ef": {
      "model_module": "@jupyter-widgets/controls",
      "model_module_version": "2.0.0",
      "model_name": "HTMLModel",
      "state": {
       "layout": "IPY_MODEL_e18a9d30c8024ed093dde11af32b85e1",
       "style": "IPY_MODEL_6d96edefe92e43acafc62d60065a5e78",
       "value": " 61/61 [00:22&lt;00:00,  1.56it/s]"
      }
     },
     "34caaf6c41a6406c85fb491c47ab7325": {
      "model_module": "@jupyter-widgets/base",
      "model_module_version": "2.0.0",
      "model_name": "LayoutModel",
      "state": {}
     },
     "3d2ac9da4a004409aa3c94975049520e": {
      "model_module": "@jupyter-widgets/controls",
      "model_module_version": "2.0.0",
      "model_name": "HTMLStyleModel",
      "state": {
       "description_width": "",
       "font_size": null,
       "text_color": null
      }
     },
     "44a3168ffe26450fb1ad41e355263ed8": {
      "model_module": "@jupyter-widgets/controls",
      "model_module_version": "2.0.0",
      "model_name": "HTMLModel",
      "state": {
       "layout": "IPY_MODEL_9bf8517e0423496fa11a526369559be7",
       "style": "IPY_MODEL_1fd5c8f5091748eca7c7c44914863e29",
       "value": "Processing: 100%"
      }
     },
     "44b85921c98d4ece801f992143fccdea": {
      "model_module": "@jupyter-widgets/controls",
      "model_module_version": "2.0.0",
      "model_name": "HTMLModel",
      "state": {
       "layout": "IPY_MODEL_5bbe7f2034724b5cb9522a4609101b89",
       "style": "IPY_MODEL_229d85bcb02b45d68fa5ebd3dbde18d5",
       "value": " 61/61 [00:43&lt;00:00,  4.04it/s]"
      }
     },
     "4ac2a4fef970402e8464697f42f06025": {
      "model_module": "@jupyter-widgets/controls",
      "model_module_version": "2.0.0",
      "model_name": "HTMLModel",
      "state": {
       "layout": "IPY_MODEL_786697b4ba1a4c7487f94f10c6a22c67",
       "style": "IPY_MODEL_b8a3576716d44a0eb1ba988f764191c3",
       "value": "Processing: 100%"
      }
     },
     "4b1b41359d1643a68bbf5cb8fd2bbaeb": {
      "model_module": "@jupyter-widgets/controls",
      "model_module_version": "2.0.0",
      "model_name": "HTMLModel",
      "state": {
       "layout": "IPY_MODEL_f9502535a2fc40d88b3562b538bd1364",
       "style": "IPY_MODEL_f3c6c5ac5c174128b685d82d4088dc26",
       "value": " 61/61 [00:20&lt;00:00,  3.33it/s]"
      }
     },
     "4d3c1bd0c87c435d88dc5b7493f356cc": {
      "model_module": "@jupyter-widgets/controls",
      "model_module_version": "2.0.0",
      "model_name": "HTMLStyleModel",
      "state": {
       "description_width": "",
       "font_size": null,
       "text_color": null
      }
     },
     "4ed6fb17b66a430c84a64b97adf6bd23": {
      "model_module": "@jupyter-widgets/controls",
      "model_module_version": "2.0.0",
      "model_name": "ProgressStyleModel",
      "state": {
       "description_width": ""
      }
     },
     "507b7987943549b08356183f9b81c942": {
      "model_module": "@jupyter-widgets/controls",
      "model_module_version": "2.0.0",
      "model_name": "FloatProgressModel",
      "state": {
       "layout": "IPY_MODEL_f881439aedad49c6b6d67e5175ba8200",
       "max": 61,
       "style": "IPY_MODEL_091dfb0901ce421d8faf18d1b4758fe2",
       "value": 61
      }
     },
     "5bbe7f2034724b5cb9522a4609101b89": {
      "model_module": "@jupyter-widgets/base",
      "model_module_version": "2.0.0",
      "model_name": "LayoutModel",
      "state": {}
     },
     "60bb6f898209419791afc12af30a48ed": {
      "model_module": "@jupyter-widgets/base",
      "model_module_version": "2.0.0",
      "model_name": "LayoutModel",
      "state": {}
     },
     "652bc5f416a7460eb1dccc388707ab2e": {
      "model_module": "@jupyter-widgets/base",
      "model_module_version": "2.0.0",
      "model_name": "LayoutModel",
      "state": {}
     },
     "6d96edefe92e43acafc62d60065a5e78": {
      "model_module": "@jupyter-widgets/controls",
      "model_module_version": "2.0.0",
      "model_name": "HTMLStyleModel",
      "state": {
       "description_width": "",
       "font_size": null,
       "text_color": null
      }
     },
     "6df3f972e0274ac8b5f341867e12dbe8": {
      "model_module": "@jupyter-widgets/base",
      "model_module_version": "2.0.0",
      "model_name": "LayoutModel",
      "state": {
       "visibility": "hidden"
      }
     },
     "7404f7027f4546f98aee70e3b5079138": {
      "model_module": "@jupyter-widgets/controls",
      "model_module_version": "2.0.0",
      "model_name": "HTMLModel",
      "state": {
       "layout": "IPY_MODEL_ee7a38e362f144c0a6a25a5e91dca987",
       "style": "IPY_MODEL_9b4a10a8f4f64dfa8fc31ce1d3777e1d",
       "value": "Processing: 100%"
      }
     },
     "786697b4ba1a4c7487f94f10c6a22c67": {
      "model_module": "@jupyter-widgets/base",
      "model_module_version": "2.0.0",
      "model_name": "LayoutModel",
      "state": {}
     },
     "7a78473be8854c458b3146891e71145f": {
      "model_module": "@jupyter-widgets/base",
      "model_module_version": "2.0.0",
      "model_name": "LayoutModel",
      "state": {}
     },
     "7a911e1eb051484f9f043f1db32fcb7f": {
      "model_module": "@jupyter-widgets/controls",
      "model_module_version": "2.0.0",
      "model_name": "HTMLModel",
      "state": {
       "layout": "IPY_MODEL_0738c0a01d0041269298b77ca27270a6",
       "style": "IPY_MODEL_fd91d65be6a14934b3a3e029a2ec6fe1",
       "value": " 61/61 [00:40&lt;00:00,  2.97it/s]"
      }
     },
     "80fd2089d1b341d28e96ea4563c01f27": {
      "model_module": "@jupyter-widgets/controls",
      "model_module_version": "2.0.0",
      "model_name": "HTMLStyleModel",
      "state": {
       "description_width": "",
       "font_size": null,
       "text_color": null
      }
     },
     "855e802b08c64525b3902838e79e8c93": {
      "model_module": "@jupyter-widgets/base",
      "model_module_version": "2.0.0",
      "model_name": "LayoutModel",
      "state": {
       "visibility": "hidden"
      }
     },
     "867f7f9afc824e6db11f2a0400b71c11": {
      "model_module": "@jupyter-widgets/base",
      "model_module_version": "2.0.0",
      "model_name": "LayoutModel",
      "state": {}
     },
     "927e089b0ddd4e9c8cb5b9b2efd24b40": {
      "model_module": "@jupyter-widgets/controls",
      "model_module_version": "2.0.0",
      "model_name": "HTMLModel",
      "state": {
       "layout": "IPY_MODEL_34caaf6c41a6406c85fb491c47ab7325",
       "style": "IPY_MODEL_ab3bbce6727e46b3a78a5ae3553a82ff",
       "value": "Processing: 100%"
      }
     },
     "9b4a10a8f4f64dfa8fc31ce1d3777e1d": {
      "model_module": "@jupyter-widgets/controls",
      "model_module_version": "2.0.0",
      "model_name": "HTMLStyleModel",
      "state": {
       "description_width": "",
       "font_size": null,
       "text_color": null
      }
     },
     "9b64b950d99f43e1b33c8c4da12e0c46": {
      "model_module": "@jupyter-widgets/base",
      "model_module_version": "2.0.0",
      "model_name": "LayoutModel",
      "state": {}
     },
     "9bf8517e0423496fa11a526369559be7": {
      "model_module": "@jupyter-widgets/base",
      "model_module_version": "2.0.0",
      "model_name": "LayoutModel",
      "state": {}
     },
     "a5517468cd7d4fbc911102bff68a909f": {
      "model_module": "@jupyter-widgets/controls",
      "model_module_version": "2.0.0",
      "model_name": "ProgressStyleModel",
      "state": {
       "description_width": ""
      }
     },
     "a633be28f8fe4f529053429b58411917": {
      "model_module": "@jupyter-widgets/controls",
      "model_module_version": "2.0.0",
      "model_name": "FloatProgressModel",
      "state": {
       "layout": "IPY_MODEL_ff7131111b85400384f6340dd9dfc625",
       "max": 61,
       "style": "IPY_MODEL_c5770f4e7eb2413b8d2a20853e024ec8",
       "value": 61
      }
     },
     "ab3bbce6727e46b3a78a5ae3553a82ff": {
      "model_module": "@jupyter-widgets/controls",
      "model_module_version": "2.0.0",
      "model_name": "HTMLStyleModel",
      "state": {
       "description_width": "",
       "font_size": null,
       "text_color": null
      }
     },
     "ab966f11afa249f1bf022cee28ea9cb6": {
      "model_module": "@jupyter-widgets/controls",
      "model_module_version": "2.0.0",
      "model_name": "FloatProgressModel",
      "state": {
       "layout": "IPY_MODEL_b5efaacc30984bec949a98ec5cb7a832",
       "max": 61,
       "style": "IPY_MODEL_4ed6fb17b66a430c84a64b97adf6bd23",
       "value": 61
      }
     },
     "b5efaacc30984bec949a98ec5cb7a832": {
      "model_module": "@jupyter-widgets/base",
      "model_module_version": "2.0.0",
      "model_name": "LayoutModel",
      "state": {}
     },
     "b8a3576716d44a0eb1ba988f764191c3": {
      "model_module": "@jupyter-widgets/controls",
      "model_module_version": "2.0.0",
      "model_name": "HTMLStyleModel",
      "state": {
       "description_width": "",
       "font_size": null,
       "text_color": null
      }
     },
     "b9ee2ee124e843d1bcc61d295b904e9d": {
      "model_module": "@jupyter-widgets/base",
      "model_module_version": "2.0.0",
      "model_name": "LayoutModel",
      "state": {}
     },
     "c5770f4e7eb2413b8d2a20853e024ec8": {
      "model_module": "@jupyter-widgets/controls",
      "model_module_version": "2.0.0",
      "model_name": "ProgressStyleModel",
      "state": {
       "description_width": ""
      }
     },
     "c7386b3beb1f4f4b9ef8a6796efd1fb5": {
      "model_module": "@jupyter-widgets/controls",
      "model_module_version": "2.0.0",
      "model_name": "FloatProgressModel",
      "state": {
       "layout": "IPY_MODEL_9b64b950d99f43e1b33c8c4da12e0c46",
       "max": 61,
       "style": "IPY_MODEL_0870bb4d9e934452af9b7d772f2516e8",
       "value": 61
      }
     },
     "c8e65b626ca94e958a93a36061926fb6": {
      "model_module": "@jupyter-widgets/controls",
      "model_module_version": "2.0.0",
      "model_name": "HTMLModel",
      "state": {
       "layout": "IPY_MODEL_cfa7e2a98725459a8250aacae2ec7527",
       "style": "IPY_MODEL_3d2ac9da4a004409aa3c94975049520e",
       "value": " 61/61 [00:19&lt;00:00,  1.69it/s]"
      }
     },
     "cb5527e85cea49f79f0d3d541fcfd925": {
      "model_module": "@jupyter-widgets/controls",
      "model_module_version": "2.0.0",
      "model_name": "FloatProgressModel",
      "state": {
       "layout": "IPY_MODEL_60bb6f898209419791afc12af30a48ed",
       "max": 61,
       "style": "IPY_MODEL_f6b2744d0d5e469c999148d4f24b3c20",
       "value": 61
      }
     },
     "cb9d0c0e63db46fc865def8c665c84c9": {
      "model_module": "@jupyter-widgets/base",
      "model_module_version": "2.0.0",
      "model_name": "LayoutModel",
      "state": {
       "visibility": "hidden"
      }
     },
     "cfa7e2a98725459a8250aacae2ec7527": {
      "model_module": "@jupyter-widgets/base",
      "model_module_version": "2.0.0",
      "model_name": "LayoutModel",
      "state": {}
     },
     "d3d8ecaa0bed4c95a55f6610e1a11165": {
      "model_module": "@jupyter-widgets/controls",
      "model_module_version": "2.0.0",
      "model_name": "HTMLModel",
      "state": {
       "layout": "IPY_MODEL_7a78473be8854c458b3146891e71145f",
       "style": "IPY_MODEL_ec8f5d6371ce4b02afb2c6243a037610",
       "value": "Processing: 100%"
      }
     },
     "d7b1248573ed4028b9ff40c813ccb1a5": {
      "model_module": "@jupyter-widgets/controls",
      "model_module_version": "2.0.0",
      "model_name": "HTMLModel",
      "state": {
       "layout": "IPY_MODEL_652bc5f416a7460eb1dccc388707ab2e",
       "style": "IPY_MODEL_4d3c1bd0c87c435d88dc5b7493f356cc",
       "value": "Processing: 100%"
      }
     },
     "d8dd8f4f66cc47d19404944c356863a9": {
      "model_module": "@jupyter-widgets/base",
      "model_module_version": "2.0.0",
      "model_name": "LayoutModel",
      "state": {
       "visibility": "hidden"
      }
     },
     "e18a9d30c8024ed093dde11af32b85e1": {
      "model_module": "@jupyter-widgets/base",
      "model_module_version": "2.0.0",
      "model_name": "LayoutModel",
      "state": {}
     },
     "e7edb5dbafb7466c9906b6caa5987df8": {
      "model_module": "@jupyter-widgets/controls",
      "model_module_version": "2.0.0",
      "model_name": "HTMLModel",
      "state": {
       "layout": "IPY_MODEL_b9ee2ee124e843d1bcc61d295b904e9d",
       "style": "IPY_MODEL_80fd2089d1b341d28e96ea4563c01f27",
       "value": " 61/61 [00:17&lt;00:00,  3.04it/s]"
      }
     },
     "ec8f5d6371ce4b02afb2c6243a037610": {
      "model_module": "@jupyter-widgets/controls",
      "model_module_version": "2.0.0",
      "model_name": "HTMLStyleModel",
      "state": {
       "description_width": "",
       "font_size": null,
       "text_color": null
      }
     },
     "ee7a38e362f144c0a6a25a5e91dca987": {
      "model_module": "@jupyter-widgets/base",
      "model_module_version": "2.0.0",
      "model_name": "LayoutModel",
      "state": {}
     },
     "f3c6c5ac5c174128b685d82d4088dc26": {
      "model_module": "@jupyter-widgets/controls",
      "model_module_version": "2.0.0",
      "model_name": "HTMLStyleModel",
      "state": {
       "description_width": "",
       "font_size": null,
       "text_color": null
      }
     },
     "f6b2744d0d5e469c999148d4f24b3c20": {
      "model_module": "@jupyter-widgets/controls",
      "model_module_version": "2.0.0",
      "model_name": "ProgressStyleModel",
      "state": {
       "description_width": ""
      }
     },
     "f881439aedad49c6b6d67e5175ba8200": {
      "model_module": "@jupyter-widgets/base",
      "model_module_version": "2.0.0",
      "model_name": "LayoutModel",
      "state": {}
     },
     "f9502535a2fc40d88b3562b538bd1364": {
      "model_module": "@jupyter-widgets/base",
      "model_module_version": "2.0.0",
      "model_name": "LayoutModel",
      "state": {}
     },
     "fd91d65be6a14934b3a3e029a2ec6fe1": {
      "model_module": "@jupyter-widgets/controls",
      "model_module_version": "2.0.0",
      "model_name": "HTMLStyleModel",
      "state": {
       "description_width": "",
       "font_size": null,
       "text_color": null
      }
     },
     "fe59963e2060475085b7a74e350129fa": {
      "model_module": "@jupyter-widgets/base",
      "model_module_version": "2.0.0",
      "model_name": "LayoutModel",
      "state": {
       "visibility": "hidden"
      }
     },
     "ff7131111b85400384f6340dd9dfc625": {
      "model_module": "@jupyter-widgets/base",
      "model_module_version": "2.0.0",
      "model_name": "LayoutModel",
      "state": {}
     }
    },
    "version_major": 2,
    "version_minor": 0
   }
  }
 },
 "nbformat": 4,
 "nbformat_minor": 5
}
